{
 "cells": [
  {
   "cell_type": "markdown",
   "metadata": {},
   "source": [
    "# Baseten custom pipeline use case\n",
    "\n",
    "Let's assume that we want to upload the following pipeline to be served by baseten. Some differences with the standard use case are:\n",
    "- It is a scikit-learn pipeline instead of a simple scikit-learn model\n",
    "- Basides 3rd party libraries that could be install via a `requirements.txt` file, it has also local dependencies"
   ]
  },
  {
   "cell_type": "code",
   "execution_count": 1,
   "metadata": {},
   "outputs": [
    {
     "name": "stdout",
     "output_type": "stream",
     "text": [
      "Collecting truss==0.1.0\n",
      "  Using cached truss-0.1.0-py3-none-any.whl (104 kB)\n",
      "Collecting baseten==0.2.5\n",
      "  Downloading baseten-0.2.5-py3-none-any.whl (21 kB)\n",
      "Requirement already satisfied: msgpack>=1.0.2 in /Users/kyrcha/.pyenv/versions/3.8.12/envs/ateam/lib/python3.8/site-packages (from truss==0.1.0) (1.0.2)\n",
      "Collecting single-source<0.4.0,>=0.3.0\n",
      "  Using cached single_source-0.3.0-py3-none-any.whl (5.7 kB)\n",
      "Requirement already satisfied: msgpack-numpy>=0.4.7.1 in /Users/kyrcha/.pyenv/versions/3.8.12/envs/ateam/lib/python3.8/site-packages (from truss==0.1.0) (0.4.7.1)\n",
      "Requirement already satisfied: PyYAML<7.0,>=6.0 in /Users/kyrcha/.pyenv/versions/3.8.12/envs/ateam/lib/python3.8/site-packages (from truss==0.1.0) (6.0)\n",
      "Requirement already satisfied: python-on-whales<0.47.0,>=0.46.0 in /Users/kyrcha/.pyenv/versions/3.8.12/envs/ateam/lib/python3.8/site-packages (from truss==0.1.0) (0.46.0)\n",
      "Requirement already satisfied: python-json-logger>=2.0.2 in /Users/kyrcha/.pyenv/versions/3.8.12/envs/ateam/lib/python3.8/site-packages (from truss==0.1.0) (2.0.2)\n",
      "Requirement already satisfied: tenacity<9.0.0,>=8.0.1 in /Users/kyrcha/.pyenv/versions/3.8.12/envs/ateam/lib/python3.8/site-packages (from truss==0.1.0) (8.0.1)\n",
      "Requirement already satisfied: Jinja2<4.0.0,>=3.1.2 in /Users/kyrcha/.pyenv/versions/3.8.12/envs/ateam/lib/python3.8/site-packages (from truss==0.1.0) (3.1.2)\n",
      "Collecting packaging<21.0,>=20.9\n",
      "  Using cached packaging-20.9-py2.py3-none-any.whl (40 kB)\n",
      "Requirement already satisfied: numpy>=1.18 in /Users/kyrcha/.pyenv/versions/3.8.12/envs/ateam/lib/python3.8/site-packages (from truss==0.1.0) (1.23.1)\n",
      "Requirement already satisfied: requests>=2.22 in /Users/kyrcha/.pyenv/versions/3.8.12/envs/ateam/lib/python3.8/site-packages (from baseten==0.2.5) (2.25.1)\n",
      "Requirement already satisfied: joblib>=0.12.5 in /Users/kyrcha/.pyenv/versions/3.8.12/envs/ateam/lib/python3.8/site-packages (from baseten==0.2.5) (1.0.1)\n",
      "Requirement already satisfied: colorama>=0.4.3 in /Users/kyrcha/.pyenv/versions/3.8.12/envs/ateam/lib/python3.8/site-packages (from baseten==0.2.5) (0.4.5)\n",
      "Requirement already satisfied: tqdm<5.0.0,>=4.62.1 in /Users/kyrcha/.pyenv/versions/3.8.12/envs/ateam/lib/python3.8/site-packages (from baseten==0.2.5) (4.64.0)\n",
      "Requirement already satisfied: requests-toolbelt<0.10.0,>=0.9.1 in /Users/kyrcha/.pyenv/versions/3.8.12/envs/ateam/lib/python3.8/site-packages (from baseten==0.2.5) (0.9.1)\n",
      "Requirement already satisfied: coolname>=1.1.0 in /Users/kyrcha/.pyenv/versions/3.8.12/envs/ateam/lib/python3.8/site-packages (from baseten==0.2.5) (1.1.0)\n",
      "Requirement already satisfied: click>=7.0 in /Users/kyrcha/.pyenv/versions/3.8.12/envs/ateam/lib/python3.8/site-packages (from baseten==0.2.5) (8.1.3)\n",
      "Requirement already satisfied: MarkupSafe>=2.0 in /Users/kyrcha/.pyenv/versions/3.8.12/envs/ateam/lib/python3.8/site-packages (from Jinja2<4.0.0,>=3.1.2->truss==0.1.0) (2.1.1)\n",
      "Requirement already satisfied: pyparsing>=2.0.2 in /Users/kyrcha/.pyenv/versions/3.8.12/envs/ateam/lib/python3.8/site-packages (from packaging<21.0,>=20.9->truss==0.1.0) (3.0.9)\n",
      "Requirement already satisfied: typing-extensions in /Users/kyrcha/.pyenv/versions/3.8.12/envs/ateam/lib/python3.8/site-packages (from python-on-whales<0.47.0,>=0.46.0->truss==0.1.0) (4.3.0)\n",
      "Requirement already satisfied: pydantic in /Users/kyrcha/.pyenv/versions/3.8.12/envs/ateam/lib/python3.8/site-packages (from python-on-whales<0.47.0,>=0.46.0->truss==0.1.0) (1.9.1)\n",
      "Requirement already satisfied: typer>=0.4.1 in /Users/kyrcha/.pyenv/versions/3.8.12/envs/ateam/lib/python3.8/site-packages (from python-on-whales<0.47.0,>=0.46.0->truss==0.1.0) (0.6.1)\n",
      "Requirement already satisfied: idna<3,>=2.5 in /Users/kyrcha/.pyenv/versions/3.8.12/envs/ateam/lib/python3.8/site-packages (from requests>=2.22->baseten==0.2.5) (2.10)\n",
      "Requirement already satisfied: certifi>=2017.4.17 in /Users/kyrcha/.pyenv/versions/3.8.12/envs/ateam/lib/python3.8/site-packages (from requests>=2.22->baseten==0.2.5) (2022.6.15)\n",
      "Requirement already satisfied: chardet<5,>=3.0.2 in /Users/kyrcha/.pyenv/versions/3.8.12/envs/ateam/lib/python3.8/site-packages (from requests>=2.22->baseten==0.2.5) (4.0.0)\n",
      "Requirement already satisfied: urllib3<1.27,>=1.21.1 in /Users/kyrcha/.pyenv/versions/3.8.12/envs/ateam/lib/python3.8/site-packages (from requests>=2.22->baseten==0.2.5) (1.26.11)\n",
      "Installing collected packages: single-source, packaging, truss, baseten\n",
      "  Attempting uninstall: packaging\n",
      "    Found existing installation: packaging 21.3\n",
      "    Uninstalling packaging-21.3:\n",
      "      Successfully uninstalled packaging-21.3\n",
      "  Attempting uninstall: truss\n",
      "    Found existing installation: truss 0.0.30\n",
      "    Uninstalling truss-0.0.30:\n",
      "      Successfully uninstalled truss-0.0.30\n",
      "  Attempting uninstall: baseten\n",
      "    Found existing installation: baseten 0.2.1\n",
      "    Uninstalling baseten-0.2.1:\n",
      "      Successfully uninstalled baseten-0.2.1\n",
      "\u001b[31mERROR: pip's dependency resolver does not currently take into account all the packages that are installed. This behaviour is the source of the following dependency conflicts.\n",
      "neptune-client 0.16.4 requires jsonschema<4.0.0, but you have jsonschema 4.9.1 which is incompatible.\u001b[0m\u001b[31m\n",
      "\u001b[0mSuccessfully installed baseten-0.2.5 packaging-20.9 single-source-0.3.0 truss-0.1.0\n",
      "\u001b[33mWARNING: You are using pip version 22.0.2; however, version 22.2.2 is available.\n",
      "You should consider upgrading via the '/Users/kyrcha/.pyenv/versions/ateam/bin/python -m pip install --upgrade pip' command.\u001b[0m\u001b[33m\n",
      "\u001b[0m"
     ]
    }
   ],
   "source": [
    "!pip install truss==0.1.0 baseten==0.2.5"
   ]
  },
  {
   "cell_type": "code",
   "execution_count": 1,
   "metadata": {},
   "outputs": [
    {
     "name": "stdout",
     "output_type": "stream",
     "text": [
      "[({'feature1': 'abcdef123456abcdef123453', 'feature2': 'abcdef123456abcdef123453', 'feature3': 'abcdef123456abcdef543210', 'feature4': 'abcdef123456abcdef123454', 'feature5': 'abcdef123456abcdef123453'}, {'feature1': 'abcdef123456abcdef123453', 'feature2': 'abcdef123456abcdef123453', 'feature3': 'abcdef123456abcdef123453', 'feature4': 'abcdef123456abcdef123454', 'feature5': 'abcdef123456abcdef543210'})]\n"
     ]
    },
    {
     "data": {
      "text/plain": [
       "array([[0.11920292, 0.88079708]])"
      ]
     },
     "execution_count": 1,
     "metadata": {},
     "output_type": "execute_result"
    }
   ],
   "source": [
    "import numpy as np\n",
    "import sys\n",
    "sys.path.insert(0, './pipelines/lr_model/')\n",
    "sys.path.insert(0, './models/')\n",
    "from joblib import dump\n",
    "from sklearn.pipeline import Pipeline\n",
    "from sklearn.linear_model import LogisticRegression\n",
    "from pipelines.lr_model.steps import (Disqualify, FeatureCalculator)\n",
    "\n",
    "LEARNED_INTERCEPT = -1\n",
    "LEARNED_COEFFICIENTS = [2, 1, 0, 0, 1]\n",
    "lr_model = LogisticRegression()\n",
    "lr_model.classes_ = np.array([0, 1])\n",
    "lr_model.intercept_ = LEARNED_INTERCEPT\n",
    "lr_model.coef_ = np.array([LEARNED_COEFFICIENTS])\n",
    "\n",
    "pipeline = Pipeline(\n",
    "    steps=[\n",
    "        (\"step1\", Disqualify()),\n",
    "        (\n",
    "            \"step2\",\n",
    "            FeatureCalculator(check_qualified=True),\n",
    "        ),\n",
    "        (\"model\", lr_model),\n",
    "    ]\n",
    ")\n",
    "\n",
    "from bson.objectid import ObjectId\n",
    "\n",
    "SID0 = \"abcdef123456abcdef123453\"\n",
    "SID1 = \"abcdef123456abcdef123453\"\n",
    "SID2 = \"abcdef123456abcdef123454\"\n",
    "SID3 = \"abcdef123456abcdef123454\"\n",
    "SID4 = \"abcdef123456abcdef543210\"\n",
    "\n",
    "BUILDER = {\n",
    "    \"feature1\": SID0,\n",
    "    \"feature2\": SID1,\n",
    "    \"feature3\": SID4,\n",
    "    \"feature4\": SID2,\n",
    "    \"feature5\": SID1,\n",
    "}\n",
    "\n",
    "ROLE = {\n",
    "    \"feature1\": SID0,\n",
    "    \"feature2\": SID1,\n",
    "    \"feature3\": SID1,\n",
    "    \"feature4\": SID3,\n",
    "    \"feature5\": SID4,\n",
    "}\n",
    "\n",
    "pipeline.predict_proba([(x, ROLE) for x in [BUILDER]])\n",
    "\n",
    "# somehow I should upload this pipeline and the necessary local dependencies to baseten"
   ]
  },
  {
   "cell_type": "markdown",
   "metadata": {},
   "source": [
    "## Get local dependencies"
   ]
  },
  {
   "cell_type": "code",
   "execution_count": 3,
   "metadata": {},
   "outputs": [
    {
     "name": "stdout",
     "output_type": "stream",
     "text": [
      "Requirement already satisfied: importlab in /Users/kyrcha/.pyenv/versions/3.8.12/envs/ateam/lib/python3.8/site-packages (0.7)\n",
      "Requirement already satisfied: networkx>=2 in /Users/kyrcha/.pyenv/versions/3.8.12/envs/ateam/lib/python3.8/site-packages (from importlab) (2.8.5)\n",
      "\u001b[33mWARNING: You are using pip version 22.0.2; however, version 22.2.2 is available.\n",
      "You should consider upgrading via the '/Users/kyrcha/.pyenv/versions/ateam/bin/python -m pip install --upgrade pip' command.\u001b[0m\u001b[33m\n",
      "\u001b[0m"
     ]
    }
   ],
   "source": [
    "!pip install importlab"
   ]
  },
  {
   "cell_type": "code",
   "execution_count": 6,
   "metadata": {},
   "outputs": [
    {
     "name": "stdout",
     "output_type": "stream",
     "text": [
      "/Users/kyrcha/.pyenv/versions/ateam/lib/python3.8/site-packages/IPython/kernel/__init__.py:12: ShimWarning: The `IPython.kernel` package has been deprecated since IPython 4.0.You should import from ipykernel or jupyter_client instead.\n",
      "  warn(\"The `IPython.kernel` package has been deprecated since IPython 4.0.\"\n",
      "/Users/kyrcha/.pyenv/versions/3.8.12/lib/python3.8/importlib/util.py:94: UserWarning: IPython.utils.traitlets has moved to a top-level traitlets package.\n",
      "  parent = __import__(parent_name, fromlist=['__path__'])\n",
      "/Users/kyrcha/.pyenv/versions/ateam/lib/python3.8/site-packages/urllib3/contrib/socks.py:50: DependencyWarning: SOCKS support in urllib3 requires the installation of optional dependencies: specifically, PySocks.  For more information, see https://urllib3.readthedocs.io/en/1.26.x/contrib.html#socks-proxies\n",
      "  warnings.warn(\n",
      "      pipelines/lr_model/steps.py\n",
      "          models/role.py\n",
      "          models/builder.py\n"
     ]
    }
   ],
   "source": [
    "!importlab --tree train.py | grep -E '^\\s+[^::]*py$'"
   ]
  },
  {
   "cell_type": "markdown",
   "metadata": {},
   "source": [
    "## Package Model"
   ]
  },
  {
   "cell_type": "code",
   "execution_count": 2,
   "metadata": {},
   "outputs": [
    {
     "name": "stderr",
     "output_type": "stream",
     "text": [
      "/Users/kyrcha/.pyenv/versions/3.8.12/envs/ateam/lib/python3.8/site-packages/_distutils_hack/__init__.py:33: UserWarning: Setuptools is replacing distutils.\n",
      "  warnings.warn(\"Setuptools is replacing distutils.\")\n",
      "WARNING: You are using pip version 22.0.2; however, version 22.2.2 is available.\n",
      "You should consider upgrading via the '/Users/kyrcha/.pyenv/versions/ateam/bin/python -m pip install --upgrade pip' command.\n"
     ]
    }
   ],
   "source": [
    "import truss\n",
    "handle = truss.mk_truss(\n",
    "    pipeline, \n",
    "    target_directory=\"./pipeline_truss/\", \n",
    "    requirements_file=\"./requirements.txt\", \n",
    "    bundled_packages=[\"./models/\", \"./pipelines/\"]\n",
    ")"
   ]
  },
  {
   "cell_type": "markdown",
   "metadata": {},
   "source": [
    "## Test Locally"
   ]
  },
  {
   "cell_type": "code",
   "execution_count": 3,
   "metadata": {},
   "outputs": [
    {
     "name": "stdout",
     "output_type": "stream",
     "text": [
      "[({'feature1': 'abcdef123456abcdef123453', 'feature2': 'abcdef123456abcdef123453', 'feature3': 'abcdef123456abcdef543210', 'feature4': 'abcdef123456abcdef123454', 'feature5': 'abcdef123456abcdef123453'}, {'feature1': 'abcdef123456abcdef123453', 'feature2': 'abcdef123456abcdef123453', 'feature3': 'abcdef123456abcdef123453', 'feature4': 'abcdef123456abcdef123454', 'feature5': 'abcdef123456abcdef543210'})]\n",
      "[({'feature1': 'abcdef123456abcdef123453', 'feature2': 'abcdef123456abcdef123453', 'feature3': 'abcdef123456abcdef543210', 'feature4': 'abcdef123456abcdef123454', 'feature5': 'abcdef123456abcdef123453'}, {'feature1': 'abcdef123456abcdef123453', 'feature2': 'abcdef123456abcdef123453', 'feature3': 'abcdef123456abcdef123453', 'feature4': 'abcdef123456abcdef123454', 'feature5': 'abcdef123456abcdef543210'})]\n"
     ]
    },
    {
     "data": {
      "text/plain": [
       "{'predictions': array([1]),\n",
       " 'probabilities': [[0.11920292202211769, 0.8807970779778823]]}"
      ]
     },
     "execution_count": 3,
     "metadata": {},
     "output_type": "execute_result"
    }
   ],
   "source": [
    "handle.server_predict({'inputs': list([(x, ROLE) for x in [BUILDER]])})"
   ]
  },
  {
   "cell_type": "code",
   "execution_count": 4,
   "metadata": {},
   "outputs": [
    {
     "name": "stderr",
     "output_type": "stream",
     "text": [
      "#1 [internal] load build definition from Dockerfile\n",
      "#1 sha256:4a4086b1def6fe79679a902e5a14cb9afa967f84f9ad673d3f48e37b497b5009\n",
      "#1 transferring dockerfile:\n",
      "#1 transferring dockerfile: 794B 0.0s done\n",
      "#1 DONE 0.1s\n",
      "\n",
      "#2 [internal] load .dockerignore\n",
      "#2 sha256:edae4cf662d133399923f2a04daefa3aa6a78b2478851d7f5b1187e92b1b96ce\n",
      "#2 transferring context: 2B done\n",
      "#2 DONE 0.0s\n",
      "\n",
      "#3 [internal] load metadata for docker.io/baseten/baseten-server-base-py38:latest\n",
      "#3 sha256:c7d5235b139eaab6125abf344c196a614320ccef1d728d462d536fdfd2443e6e\n",
      "#3 DONE 2.6s\n",
      "\n",
      "#18 [ 1/14] FROM docker.io/baseten/baseten-server-base-py38:latest@sha256:eadb2d14fa0549be9739fd6aa9bc8a9a01bb09d9cb0c58e7445b24af81fc1207\n",
      "#18 sha256:7e324b8d752114abe7454450669b255822e9a5a6a81d2f757658f3770b413068\n",
      "#18 DONE 0.0s\n",
      "\n",
      "#4 [internal] load build context\n",
      "#4 sha256:ca9ee72d0c64fa4b68ab775941d7d5bbe35711c4d8fecbda6bbae6f2f9782ea8\n",
      "#4 transferring context: 115B done\n",
      "#4 ERROR: error from sender: resolve : lstat /private/var/folders/01/ngz274cj2hz8_ng6hrt6g39w0000gn/T/tmp2ydt67yv: no such file or directory\n",
      "------\n",
      " > [internal] load build context:\n",
      "------\n",
      "error: failed to solve: rpc error: code = Unknown desc = error from sender: resolve : lstat /private/var/folders/01/ngz274cj2hz8_ng6hrt6g39w0000gn/T/tmp2ydt67yv: no such file or directory\n"
     ]
    },
    {
     "ename": "KeyboardInterrupt",
     "evalue": "",
     "output_type": "error",
     "traceback": [
      "\u001b[0;31m---------------------------------------------------------------------------\u001b[0m",
      "\u001b[0;31mKeyboardInterrupt\u001b[0m                         Traceback (most recent call last)",
      "\u001b[0;32m/var/folders/01/ngz274cj2hz8_ng6hrt6g39w0000gn/T/ipykernel_25691/3815115849.py\u001b[0m in \u001b[0;36m<cell line: 1>\u001b[0;34m()\u001b[0m\n\u001b[0;32m----> 1\u001b[0;31m \u001b[0mhandle\u001b[0m\u001b[0;34m.\u001b[0m\u001b[0mdocker_predict\u001b[0m\u001b[0;34m(\u001b[0m\u001b[0;34m{\u001b[0m\u001b[0;34m'inputs'\u001b[0m\u001b[0;34m:\u001b[0m \u001b[0mlist\u001b[0m\u001b[0;34m(\u001b[0m\u001b[0;34m[\u001b[0m\u001b[0;34m(\u001b[0m\u001b[0mx\u001b[0m\u001b[0;34m,\u001b[0m \u001b[0mROLE\u001b[0m\u001b[0;34m)\u001b[0m \u001b[0;32mfor\u001b[0m \u001b[0mx\u001b[0m \u001b[0;32min\u001b[0m \u001b[0;34m[\u001b[0m\u001b[0mBUILDER\u001b[0m\u001b[0;34m]\u001b[0m\u001b[0;34m]\u001b[0m\u001b[0;34m)\u001b[0m\u001b[0;34m}\u001b[0m\u001b[0;34m)\u001b[0m\u001b[0;34m\u001b[0m\u001b[0;34m\u001b[0m\u001b[0m\n\u001b[0m",
      "\u001b[0;32m~/.pyenv/versions/3.8.12/envs/ateam/lib/python3.8/site-packages/truss/truss_handle.py\u001b[0m in \u001b[0;36mdocker_predict\u001b[0;34m(self, request, build_dir, tag, local_port, detach)\u001b[0m\n\u001b[1;32m    117\u001b[0m             \u001b[0mcontainer\u001b[0m \u001b[0;34m=\u001b[0m \u001b[0mcontainers\u001b[0m\u001b[0;34m[\u001b[0m\u001b[0;36m0\u001b[0m\u001b[0;34m]\u001b[0m\u001b[0;34m\u001b[0m\u001b[0;34m\u001b[0m\u001b[0m\n\u001b[1;32m    118\u001b[0m         \u001b[0;32melse\u001b[0m\u001b[0;34m:\u001b[0m\u001b[0;34m\u001b[0m\u001b[0;34m\u001b[0m\u001b[0m\n\u001b[0;32m--> 119\u001b[0;31m             container = self.docker_run(\n\u001b[0m\u001b[1;32m    120\u001b[0m                 \u001b[0mbuild_dir\u001b[0m\u001b[0;34m,\u001b[0m \u001b[0mtag\u001b[0m\u001b[0;34m,\u001b[0m \u001b[0mlocal_port\u001b[0m\u001b[0;34m=\u001b[0m\u001b[0mlocal_port\u001b[0m\u001b[0;34m,\u001b[0m \u001b[0mdetach\u001b[0m\u001b[0;34m=\u001b[0m\u001b[0mdetach\u001b[0m\u001b[0;34m\u001b[0m\u001b[0;34m\u001b[0m\u001b[0m\n\u001b[1;32m    121\u001b[0m             )\n",
      "\u001b[0;32m~/.pyenv/versions/3.8.12/envs/ateam/lib/python3.8/site-packages/truss/truss_handle.py\u001b[0m in \u001b[0;36mdocker_run\u001b[0;34m(self, build_dir, tag, local_port, detach)\u001b[0m\n\u001b[1;32m     69\u001b[0m             \u001b[0mincluding\u001b[0m \u001b[0mits\u001b[0m \u001b[0mid\u001b[0m\u001b[0;34m.\u001b[0m \u001b[0mThe\u001b[0m \u001b[0mid\u001b[0m \u001b[0mcan\u001b[0m \u001b[0mbe\u001b[0m \u001b[0mused\u001b[0m \u001b[0mto\u001b[0m \u001b[0mkill\u001b[0m \u001b[0mthe\u001b[0m \u001b[0mcontainer\u001b[0m\u001b[0;34m.\u001b[0m\u001b[0;34m\u001b[0m\u001b[0;34m\u001b[0m\u001b[0m\n\u001b[1;32m     70\u001b[0m         \"\"\"\n\u001b[0;32m---> 71\u001b[0;31m         \u001b[0mimage\u001b[0m \u001b[0;34m=\u001b[0m \u001b[0mself\u001b[0m\u001b[0;34m.\u001b[0m\u001b[0mbuild_docker_image\u001b[0m\u001b[0;34m(\u001b[0m\u001b[0mbuild_dir\u001b[0m\u001b[0;34m=\u001b[0m\u001b[0mbuild_dir\u001b[0m\u001b[0;34m,\u001b[0m \u001b[0mtag\u001b[0m\u001b[0;34m=\u001b[0m\u001b[0mtag\u001b[0m\u001b[0;34m)\u001b[0m\u001b[0;34m\u001b[0m\u001b[0;34m\u001b[0m\u001b[0m\n\u001b[0m\u001b[1;32m     72\u001b[0m         \u001b[0mbuilt_tag\u001b[0m \u001b[0;34m=\u001b[0m \u001b[0mimage\u001b[0m\u001b[0;34m.\u001b[0m\u001b[0mrepo_tags\u001b[0m\u001b[0;34m[\u001b[0m\u001b[0;36m0\u001b[0m\u001b[0;34m]\u001b[0m\u001b[0;34m\u001b[0m\u001b[0;34m\u001b[0m\u001b[0m\n\u001b[1;32m     73\u001b[0m         \u001b[0mlabels\u001b[0m \u001b[0;34m=\u001b[0m \u001b[0mself\u001b[0m\u001b[0;34m.\u001b[0m\u001b[0m_get_labels\u001b[0m\u001b[0;34m(\u001b[0m\u001b[0;34m)\u001b[0m\u001b[0;34m\u001b[0m\u001b[0;34m\u001b[0m\u001b[0m\n",
      "\u001b[0;32m~/.pyenv/versions/3.8.12/envs/ateam/lib/python3.8/site-packages/truss/truss_handle.py\u001b[0m in \u001b[0;36mbuild_docker_image\u001b[0;34m(self, build_dir, tag)\u001b[0m\n\u001b[1;32m     53\u001b[0m         \u001b[0mbuild_dir_path\u001b[0m \u001b[0;34m=\u001b[0m \u001b[0mPath\u001b[0m\u001b[0;34m(\u001b[0m\u001b[0mbuild_dir\u001b[0m\u001b[0;34m)\u001b[0m \u001b[0;32mif\u001b[0m \u001b[0mbuild_dir\u001b[0m \u001b[0;32mis\u001b[0m \u001b[0;32mnot\u001b[0m \u001b[0;32mNone\u001b[0m \u001b[0;32melse\u001b[0m \u001b[0;32mNone\u001b[0m\u001b[0;34m\u001b[0m\u001b[0;34m\u001b[0m\u001b[0m\n\u001b[1;32m     54\u001b[0m         \u001b[0mimage_builder\u001b[0m \u001b[0;34m=\u001b[0m \u001b[0mImageBuilderContext\u001b[0m\u001b[0;34m.\u001b[0m\u001b[0mrun\u001b[0m\u001b[0;34m(\u001b[0m\u001b[0mself\u001b[0m\u001b[0;34m.\u001b[0m\u001b[0m_truss_dir\u001b[0m\u001b[0;34m)\u001b[0m\u001b[0;34m\u001b[0m\u001b[0;34m\u001b[0m\u001b[0m\n\u001b[0;32m---> 55\u001b[0;31m         \u001b[0;32mreturn\u001b[0m \u001b[0mimage_builder\u001b[0m\u001b[0;34m.\u001b[0m\u001b[0mbuild_image\u001b[0m\u001b[0;34m(\u001b[0m\u001b[0mbuild_dir_path\u001b[0m\u001b[0;34m,\u001b[0m \u001b[0mtag\u001b[0m\u001b[0;34m,\u001b[0m \u001b[0mlabels\u001b[0m\u001b[0;34m=\u001b[0m\u001b[0mself\u001b[0m\u001b[0;34m.\u001b[0m\u001b[0m_get_labels\u001b[0m\u001b[0;34m(\u001b[0m\u001b[0;34m)\u001b[0m\u001b[0;34m)\u001b[0m\u001b[0;34m\u001b[0m\u001b[0;34m\u001b[0m\u001b[0m\n\u001b[0m\u001b[1;32m     56\u001b[0m \u001b[0;34m\u001b[0m\u001b[0m\n\u001b[1;32m     57\u001b[0m     def docker_run(\n",
      "\u001b[0;32m~/.pyenv/versions/3.8.12/envs/ateam/lib/python3.8/site-packages/truss/contexts/image_builder/image_builder.py\u001b[0m in \u001b[0;36mbuild_image\u001b[0;34m(self, build_dir, tag, labels)\u001b[0m\n\u001b[1;32m     48\u001b[0m         \u001b[0;32mwith\u001b[0m \u001b[0mgiven_or_temporary_dir\u001b[0m\u001b[0;34m(\u001b[0m\u001b[0mbuild_dir\u001b[0m\u001b[0;34m)\u001b[0m \u001b[0;32mas\u001b[0m \u001b[0mbuild_dir_path\u001b[0m\u001b[0;34m:\u001b[0m\u001b[0;34m\u001b[0m\u001b[0;34m\u001b[0m\u001b[0m\n\u001b[1;32m     49\u001b[0m             \u001b[0mself\u001b[0m\u001b[0;34m.\u001b[0m\u001b[0mprepare_image_build_dir\u001b[0m\u001b[0;34m(\u001b[0m\u001b[0mbuild_dir_path\u001b[0m\u001b[0;34m)\u001b[0m\u001b[0;34m\u001b[0m\u001b[0;34m\u001b[0m\u001b[0m\n\u001b[0;32m---> 50\u001b[0;31m             return Docker.client().build(\n\u001b[0m\u001b[1;32m     51\u001b[0m                 \u001b[0mstr\u001b[0m\u001b[0;34m(\u001b[0m\u001b[0mbuild_dir_path\u001b[0m\u001b[0;34m)\u001b[0m\u001b[0;34m,\u001b[0m\u001b[0;34m\u001b[0m\u001b[0;34m\u001b[0m\u001b[0m\n\u001b[1;32m     52\u001b[0m                 \u001b[0mlabels\u001b[0m\u001b[0;34m=\u001b[0m\u001b[0mlabels\u001b[0m \u001b[0;32mif\u001b[0m \u001b[0mlabels\u001b[0m \u001b[0;32melse\u001b[0m \u001b[0;34m{\u001b[0m\u001b[0;34m}\u001b[0m\u001b[0;34m,\u001b[0m\u001b[0;34m\u001b[0m\u001b[0;34m\u001b[0m\u001b[0m\n",
      "\u001b[0;32m~/.pyenv/versions/3.8.12/envs/ateam/lib/python3.8/site-packages/python_on_whales/components/buildx/cli_wrapper.py\u001b[0m in \u001b[0;36mbuild\u001b[0;34m(self, context_path, add_hosts, allow, build_args, builder, cache, cache_from, cache_to, file, labels, load, network, output, platforms, progress, pull, push, secrets, ssh, tags, target, stream_logs)\u001b[0m\n\u001b[1;32m    363\u001b[0m                 \u001b[0mfull_cmd\u001b[0m\u001b[0;34m.\u001b[0m\u001b[0madd_simple_arg\u001b[0m\u001b[0;34m(\u001b[0m\u001b[0;34m\"--iidfile\"\u001b[0m\u001b[0;34m,\u001b[0m \u001b[0miidfile\u001b[0m\u001b[0;34m)\u001b[0m\u001b[0;34m\u001b[0m\u001b[0;34m\u001b[0m\u001b[0m\n\u001b[1;32m    364\u001b[0m                 \u001b[0mfull_cmd\u001b[0m\u001b[0;34m.\u001b[0m\u001b[0mappend\u001b[0m\u001b[0;34m(\u001b[0m\u001b[0mcontext_path\u001b[0m\u001b[0;34m)\u001b[0m\u001b[0;34m\u001b[0m\u001b[0;34m\u001b[0m\u001b[0m\n\u001b[0;32m--> 365\u001b[0;31m                 \u001b[0mrun\u001b[0m\u001b[0;34m(\u001b[0m\u001b[0mfull_cmd\u001b[0m\u001b[0;34m,\u001b[0m \u001b[0mcapture_stderr\u001b[0m\u001b[0;34m=\u001b[0m\u001b[0mprogress\u001b[0m \u001b[0;32mis\u001b[0m \u001b[0;32mFalse\u001b[0m\u001b[0;34m)\u001b[0m\u001b[0;34m\u001b[0m\u001b[0;34m\u001b[0m\u001b[0m\n\u001b[0m\u001b[1;32m    366\u001b[0m                 \u001b[0mimage_id\u001b[0m \u001b[0;34m=\u001b[0m \u001b[0miidfile\u001b[0m\u001b[0;34m.\u001b[0m\u001b[0mread_text\u001b[0m\u001b[0;34m(\u001b[0m\u001b[0;34m)\u001b[0m\u001b[0;34m\u001b[0m\u001b[0;34m\u001b[0m\u001b[0m\n\u001b[1;32m    367\u001b[0m                 \u001b[0;32mreturn\u001b[0m \u001b[0mdocker_image\u001b[0m\u001b[0;34m.\u001b[0m\u001b[0minspect\u001b[0m\u001b[0;34m(\u001b[0m\u001b[0mimage_id\u001b[0m\u001b[0;34m)\u001b[0m\u001b[0;34m\u001b[0m\u001b[0;34m\u001b[0m\u001b[0m\n",
      "\u001b[0;32m~/.pyenv/versions/3.8.12/envs/ateam/lib/python3.8/site-packages/python_on_whales/utils.py\u001b[0m in \u001b[0;36mrun\u001b[0;34m(args, capture_stdout, capture_stderr, input, return_stderr, env, tty)\u001b[0m\n\u001b[1;32m    130\u001b[0m         \u001b[0mprint\u001b[0m\u001b[0;34m(\u001b[0m\u001b[0;34mf\"Env: {subprocess_env}\"\u001b[0m\u001b[0;34m)\u001b[0m\u001b[0;34m\u001b[0m\u001b[0;34m\u001b[0m\u001b[0m\n\u001b[1;32m    131\u001b[0m         \u001b[0mprint\u001b[0m\u001b[0;34m(\u001b[0m\u001b[0;34m\"------------------------------\"\u001b[0m\u001b[0;34m)\u001b[0m\u001b[0;34m\u001b[0m\u001b[0;34m\u001b[0m\u001b[0m\n\u001b[0;32m--> 132\u001b[0;31m     completed_process = subprocess.run(\n\u001b[0m\u001b[1;32m    133\u001b[0m         \u001b[0margs\u001b[0m\u001b[0;34m,\u001b[0m \u001b[0minput\u001b[0m\u001b[0;34m=\u001b[0m\u001b[0minput\u001b[0m\u001b[0;34m,\u001b[0m \u001b[0mstdout\u001b[0m\u001b[0;34m=\u001b[0m\u001b[0mstdout_dest\u001b[0m\u001b[0;34m,\u001b[0m \u001b[0mstderr\u001b[0m\u001b[0;34m=\u001b[0m\u001b[0mstderr_dest\u001b[0m\u001b[0;34m,\u001b[0m \u001b[0menv\u001b[0m\u001b[0;34m=\u001b[0m\u001b[0msubprocess_env\u001b[0m\u001b[0;34m\u001b[0m\u001b[0;34m\u001b[0m\u001b[0m\n\u001b[1;32m    134\u001b[0m     )\n",
      "\u001b[0;32m~/.pyenv/versions/3.8.12/lib/python3.8/subprocess.py\u001b[0m in \u001b[0;36mrun\u001b[0;34m(input, capture_output, timeout, check, *popenargs, **kwargs)\u001b[0m\n\u001b[1;32m    493\u001b[0m     \u001b[0;32mwith\u001b[0m \u001b[0mPopen\u001b[0m\u001b[0;34m(\u001b[0m\u001b[0;34m*\u001b[0m\u001b[0mpopenargs\u001b[0m\u001b[0;34m,\u001b[0m \u001b[0;34m**\u001b[0m\u001b[0mkwargs\u001b[0m\u001b[0;34m)\u001b[0m \u001b[0;32mas\u001b[0m \u001b[0mprocess\u001b[0m\u001b[0;34m:\u001b[0m\u001b[0;34m\u001b[0m\u001b[0;34m\u001b[0m\u001b[0m\n\u001b[1;32m    494\u001b[0m         \u001b[0;32mtry\u001b[0m\u001b[0;34m:\u001b[0m\u001b[0;34m\u001b[0m\u001b[0;34m\u001b[0m\u001b[0m\n\u001b[0;32m--> 495\u001b[0;31m             \u001b[0mstdout\u001b[0m\u001b[0;34m,\u001b[0m \u001b[0mstderr\u001b[0m \u001b[0;34m=\u001b[0m \u001b[0mprocess\u001b[0m\u001b[0;34m.\u001b[0m\u001b[0mcommunicate\u001b[0m\u001b[0;34m(\u001b[0m\u001b[0minput\u001b[0m\u001b[0;34m,\u001b[0m \u001b[0mtimeout\u001b[0m\u001b[0;34m=\u001b[0m\u001b[0mtimeout\u001b[0m\u001b[0;34m)\u001b[0m\u001b[0;34m\u001b[0m\u001b[0;34m\u001b[0m\u001b[0m\n\u001b[0m\u001b[1;32m    496\u001b[0m         \u001b[0;32mexcept\u001b[0m \u001b[0mTimeoutExpired\u001b[0m \u001b[0;32mas\u001b[0m \u001b[0mexc\u001b[0m\u001b[0;34m:\u001b[0m\u001b[0;34m\u001b[0m\u001b[0;34m\u001b[0m\u001b[0m\n\u001b[1;32m    497\u001b[0m             \u001b[0mprocess\u001b[0m\u001b[0;34m.\u001b[0m\u001b[0mkill\u001b[0m\u001b[0;34m(\u001b[0m\u001b[0;34m)\u001b[0m\u001b[0;34m\u001b[0m\u001b[0;34m\u001b[0m\u001b[0m\n",
      "\u001b[0;32m~/.pyenv/versions/3.8.12/lib/python3.8/subprocess.py\u001b[0m in \u001b[0;36mcommunicate\u001b[0;34m(self, input, timeout)\u001b[0m\n\u001b[1;32m   1013\u001b[0m                 \u001b[0mself\u001b[0m\u001b[0;34m.\u001b[0m\u001b[0m_stdin_write\u001b[0m\u001b[0;34m(\u001b[0m\u001b[0minput\u001b[0m\u001b[0;34m)\u001b[0m\u001b[0;34m\u001b[0m\u001b[0;34m\u001b[0m\u001b[0m\n\u001b[1;32m   1014\u001b[0m             \u001b[0;32melif\u001b[0m \u001b[0mself\u001b[0m\u001b[0;34m.\u001b[0m\u001b[0mstdout\u001b[0m\u001b[0;34m:\u001b[0m\u001b[0;34m\u001b[0m\u001b[0;34m\u001b[0m\u001b[0m\n\u001b[0;32m-> 1015\u001b[0;31m                 \u001b[0mstdout\u001b[0m \u001b[0;34m=\u001b[0m \u001b[0mself\u001b[0m\u001b[0;34m.\u001b[0m\u001b[0mstdout\u001b[0m\u001b[0;34m.\u001b[0m\u001b[0mread\u001b[0m\u001b[0;34m(\u001b[0m\u001b[0;34m)\u001b[0m\u001b[0;34m\u001b[0m\u001b[0;34m\u001b[0m\u001b[0m\n\u001b[0m\u001b[1;32m   1016\u001b[0m                 \u001b[0mself\u001b[0m\u001b[0;34m.\u001b[0m\u001b[0mstdout\u001b[0m\u001b[0;34m.\u001b[0m\u001b[0mclose\u001b[0m\u001b[0;34m(\u001b[0m\u001b[0;34m)\u001b[0m\u001b[0;34m\u001b[0m\u001b[0;34m\u001b[0m\u001b[0m\n\u001b[1;32m   1017\u001b[0m             \u001b[0;32melif\u001b[0m \u001b[0mself\u001b[0m\u001b[0;34m.\u001b[0m\u001b[0mstderr\u001b[0m\u001b[0;34m:\u001b[0m\u001b[0;34m\u001b[0m\u001b[0;34m\u001b[0m\u001b[0m\n",
      "\u001b[0;31mKeyboardInterrupt\u001b[0m: "
     ]
    }
   ],
   "source": [
    "handle.docker_predict({'inputs': list([(x, ROLE) for x in [BUILDER]])})"
   ]
  },
  {
   "cell_type": "markdown",
   "metadata": {},
   "source": [
    "## Deploy to Baseten"
   ]
  },
  {
   "cell_type": "code",
   "execution_count": 5,
   "metadata": {},
   "outputs": [
    {
     "name": "stderr",
     "output_type": "stream",
     "text": [
      "\u001b[32mINFO\u001b[0m API key set.\n"
     ]
    }
   ],
   "source": [
    "import baseten\n",
    "baseten.login(\"\")"
   ]
  },
  {
   "cell_type": "code",
   "execution_count": 6,
   "metadata": {},
   "outputs": [
    {
     "name": "stderr",
     "output_type": "stream",
     "text": [
      "\u001b[32mINFO\u001b[0m Serializing \u001b[34mtest-truss-old\u001b[0m truss.\n",
      "\u001b[32mINFO\u001b[0m Making contact with BaseTen 👋 👽\n",
      "\u001b[32mINFO\u001b[0m 🚀 Uploading model to BaseTen 🚀\n",
      "Upload Progress: 100% |\u001b[34m████████████████████████████████████████████████████████████████████████████████████████████████████\u001b[39m| 7.27k/7.27k\n",
      "\u001b[32mINFO\u001b[0m 🔮 Upload successful!🔮\n",
      "\u001b[32mINFO\u001b[0m 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\n",
      "\u001b[32mINFO\u001b[0m Successfully created version \u001b[34mzq8odg3\u001b[0m for test-truss-old.\n",
      "\u001b[32mINFO\u001b[0m \u001b[34m Deploying model version.\n",
      "\u001b[32mINFO\u001b[0m 🏁 The model is being built and deployed right now 🏁\n",
      "\u001b[32mINFO\u001b[0m -----------------------------------------------------------------------\n",
      "\u001b[32mINFO\u001b[0m |  Visit \u001b[34mhttps://app.baseten.co/models/VBno3m0\u001b[0m for deployment status  |\n",
      "\u001b[32mINFO\u001b[0m -----------------------------------------------------------------------\n"
     ]
    }
   ],
   "source": [
    "b10_model = baseten.deploy_truss(handle, model_name='test-truss-old')"
   ]
  },
  {
   "cell_type": "code",
   "execution_count": 9,
   "metadata": {},
   "outputs": [
    {
     "ename": "ApiError",
     "evalue": "Error calling predict.\n<Server response: b'{\"error\": \"Failed to invoke model version zq8odg3. \\\\nTraceback (most recent call last):\\\\n  File \\\\\"/app/model_wrapper.py\\\\\", line 55, in predict\\\\n    return self._model.predict(request)\\\\n  File \\\\\"/app/model/model.py\\\\\", line 44, in predict\\\\n    result = self._model.predict(inputs)\\\\n  File \\\\\"/usr/local/lib/python3.8/site-packages/sklearn/pipeline.py\\\\\", line 457, in predict\\\\n    Xt = transform.transform(Xt)\\\\n  File \\\\\"/packages/pipelines/lr_model/steps.py\\\\\", line 15, in transform\\\\n    return [self._disqualify(*x) for x in X]\\\\n  File \\\\\"/packages/pipelines/lr_model/steps.py\\\\\", line 15, in <listcomp>\\\\n    return [self._disqualify(*x) for x in X]\\\\n  File \\\\\"/packages/pipelines/lr_model/steps.py\\\\\", line 22, in _disqualify\\\\n    disqualified = Disqualify.check_if_disqualified(\\\\n  File \\\\\"/packages/pipelines/lr_model/steps.py\\\\\", line 36, in check_if_disqualified\\\\n    if builder.get(\\\\\"feature1\\\\\") is None:\\\\nAttributeError: \\'str\\' object has no attribute \\'get\\'\\\\n\"}'>",
     "output_type": "error",
     "traceback": [
      "\u001b[0;31m---------------------------------------------------------------------------\u001b[0m",
      "\u001b[0;31mHTTPError\u001b[0m                                 Traceback (most recent call last)",
      "\u001b[0;32m~/.pyenv/versions/3.8.12/envs/ateam/lib/python3.8/site-packages/baseten/common/core.py\u001b[0m in \u001b[0;36mwrapper\u001b[0;34m(*args, **kwargs)\u001b[0m\n\u001b[1;32m     71\u001b[0m         \u001b[0;32mtry\u001b[0m\u001b[0;34m:\u001b[0m\u001b[0;34m\u001b[0m\u001b[0;34m\u001b[0m\u001b[0m\n\u001b[0;32m---> 72\u001b[0;31m             \u001b[0;32mreturn\u001b[0m \u001b[0mfunc\u001b[0m\u001b[0;34m(\u001b[0m\u001b[0;34m*\u001b[0m\u001b[0margs\u001b[0m\u001b[0;34m,\u001b[0m \u001b[0;34m**\u001b[0m\u001b[0mkwargs\u001b[0m\u001b[0;34m)\u001b[0m\u001b[0;34m\u001b[0m\u001b[0;34m\u001b[0m\u001b[0m\n\u001b[0m\u001b[1;32m     73\u001b[0m         \u001b[0;32mexcept\u001b[0m \u001b[0mRequestException\u001b[0m \u001b[0;32mas\u001b[0m \u001b[0merr\u001b[0m\u001b[0;34m:\u001b[0m\u001b[0;34m\u001b[0m\u001b[0;34m\u001b[0m\u001b[0m\n",
      "\u001b[0;32m~/.pyenv/versions/3.8.12/envs/ateam/lib/python3.8/site-packages/baseten/baseten_deployed_model.py\u001b[0m in \u001b[0;36mpredict\u001b[0;34m(self, inputs, metadata, prediction_only)\u001b[0m\n\u001b[1;32m    105\u001b[0m         \u001b[0;32mif\u001b[0m \u001b[0mself\u001b[0m\u001b[0;34m.\u001b[0m\u001b[0m_model_version_id\u001b[0m\u001b[0;34m:\u001b[0m\u001b[0;34m\u001b[0m\u001b[0;34m\u001b[0m\u001b[0m\n\u001b[0;32m--> 106\u001b[0;31m             \u001b[0;32mreturn\u001b[0m \u001b[0mapi\u001b[0m\u001b[0;34m.\u001b[0m\u001b[0mpredict_for_model_version\u001b[0m\u001b[0;34m(\u001b[0m\u001b[0mself\u001b[0m\u001b[0;34m.\u001b[0m\u001b[0m_model_version_id\u001b[0m\u001b[0;34m,\u001b[0m \u001b[0minputs_list\u001b[0m\u001b[0;34m,\u001b[0m \u001b[0mmetadata\u001b[0m\u001b[0;34m,\u001b[0m \u001b[0mprediction_only\u001b[0m\u001b[0;34m)\u001b[0m\u001b[0;34m\u001b[0m\u001b[0;34m\u001b[0m\u001b[0m\n\u001b[0m\u001b[1;32m    107\u001b[0m         \u001b[0;32mreturn\u001b[0m \u001b[0mapi\u001b[0m\u001b[0;34m.\u001b[0m\u001b[0mpredict_for_model\u001b[0m\u001b[0;34m(\u001b[0m\u001b[0mself\u001b[0m\u001b[0;34m.\u001b[0m\u001b[0m_model_id\u001b[0m\u001b[0;34m,\u001b[0m \u001b[0minputs_list\u001b[0m\u001b[0;34m,\u001b[0m \u001b[0mmetadata\u001b[0m\u001b[0;34m,\u001b[0m \u001b[0mprediction_only\u001b[0m\u001b[0;34m)\u001b[0m\u001b[0;34m\u001b[0m\u001b[0;34m\u001b[0m\u001b[0m\n",
      "\u001b[0;32m~/.pyenv/versions/3.8.12/envs/ateam/lib/python3.8/site-packages/baseten/common/api.py\u001b[0m in \u001b[0;36mwrapper\u001b[0;34m(*args, **kwargs)\u001b[0m\n\u001b[1;32m     29\u001b[0m             \u001b[0;32mraise\u001b[0m \u001b[0mAuthorizationError\u001b[0m\u001b[0;34m(\u001b[0m\u001b[0;34m'You must first run the `baseten login` cli command.'\u001b[0m\u001b[0;34m)\u001b[0m\u001b[0;34m\u001b[0m\u001b[0;34m\u001b[0m\u001b[0m\n\u001b[0;32m---> 30\u001b[0;31m         \u001b[0mresult\u001b[0m \u001b[0;34m=\u001b[0m \u001b[0mfunc\u001b[0m\u001b[0;34m(\u001b[0m\u001b[0mapi_key\u001b[0m\u001b[0;34m,\u001b[0m \u001b[0;34m*\u001b[0m\u001b[0margs\u001b[0m\u001b[0;34m,\u001b[0m \u001b[0;34m**\u001b[0m\u001b[0mkwargs\u001b[0m\u001b[0;34m)\u001b[0m\u001b[0;34m\u001b[0m\u001b[0;34m\u001b[0m\u001b[0m\n\u001b[0m\u001b[1;32m     31\u001b[0m         \u001b[0;32mreturn\u001b[0m \u001b[0mresult\u001b[0m\u001b[0;34m\u001b[0m\u001b[0;34m\u001b[0m\u001b[0m\n",
      "\u001b[0;32m~/.pyenv/versions/3.8.12/envs/ateam/lib/python3.8/site-packages/baseten/common/api.py\u001b[0m in \u001b[0;36mpredict_for_model_version\u001b[0;34m(api_key, model_version_id, inputs, metadata, prediction_only)\u001b[0m\n\u001b[1;32m    607\u001b[0m     \u001b[0mpredict_url\u001b[0m \u001b[0;34m=\u001b[0m \u001b[0;34mf'{settings.API_URL_BASE}/model_versions/{model_version_id}/predict'\u001b[0m\u001b[0;34m\u001b[0m\u001b[0;34m\u001b[0m\u001b[0m\n\u001b[0;32m--> 608\u001b[0;31m     \u001b[0;32mreturn\u001b[0m \u001b[0m_predict\u001b[0m\u001b[0;34m(\u001b[0m\u001b[0mapi_key\u001b[0m\u001b[0;34m,\u001b[0m \u001b[0mpredict_url\u001b[0m\u001b[0;34m,\u001b[0m \u001b[0minputs\u001b[0m\u001b[0;34m,\u001b[0m \u001b[0mmetadata\u001b[0m\u001b[0;34m,\u001b[0m \u001b[0mprediction_only\u001b[0m\u001b[0;34m)\u001b[0m\u001b[0;34m\u001b[0m\u001b[0;34m\u001b[0m\u001b[0m\n\u001b[0m\u001b[1;32m    609\u001b[0m \u001b[0;34m\u001b[0m\u001b[0m\n",
      "\u001b[0;32m~/.pyenv/versions/3.8.12/envs/ateam/lib/python3.8/site-packages/baseten/common/api.py\u001b[0m in \u001b[0;36m_predict\u001b[0;34m(api_key, predict_url, inputs, metadata, prediction_only)\u001b[0m\n\u001b[1;32m    693\u001b[0m              prediction_only: bool = True) -> Union[List[List], Dict]:\n\u001b[0;32m--> 694\u001b[0;31m     \u001b[0mresp\u001b[0m \u001b[0;34m=\u001b[0m \u001b[0m_post_rest_query\u001b[0m\u001b[0;34m(\u001b[0m\u001b[0mapi_key\u001b[0m\u001b[0;34m,\u001b[0m \u001b[0mpredict_url\u001b[0m\u001b[0;34m,\u001b[0m \u001b[0;34m{\u001b[0m\u001b[0;34m'inputs'\u001b[0m\u001b[0;34m:\u001b[0m \u001b[0minputs\u001b[0m\u001b[0;34m,\u001b[0m \u001b[0;34m'metadata'\u001b[0m\u001b[0;34m:\u001b[0m \u001b[0mmetadata\u001b[0m\u001b[0;34m}\u001b[0m\u001b[0;34m)\u001b[0m\u001b[0;34m\u001b[0m\u001b[0;34m\u001b[0m\u001b[0m\n\u001b[0m\u001b[1;32m    695\u001b[0m     \u001b[0mresp_json\u001b[0m \u001b[0;34m=\u001b[0m \u001b[0mjson\u001b[0m\u001b[0;34m.\u001b[0m\u001b[0mloads\u001b[0m\u001b[0;34m(\u001b[0m\u001b[0mresp\u001b[0m\u001b[0;34m.\u001b[0m\u001b[0mcontent\u001b[0m\u001b[0;34m)\u001b[0m\u001b[0;34m\u001b[0m\u001b[0;34m\u001b[0m\u001b[0m\n",
      "\u001b[0;32m~/.pyenv/versions/3.8.12/envs/ateam/lib/python3.8/site-packages/baseten/common/api.py\u001b[0m in \u001b[0;36m_post_rest_query\u001b[0;34m(api_key, url, post_body_dict)\u001b[0m\n\u001b[1;32m    716\u001b[0m     \u001b[0mresp\u001b[0m \u001b[0;34m=\u001b[0m \u001b[0mrequests\u001b[0m\u001b[0;34m.\u001b[0m\u001b[0mpost\u001b[0m\u001b[0;34m(\u001b[0m\u001b[0murl\u001b[0m\u001b[0;34m,\u001b[0m \u001b[0mjson\u001b[0m\u001b[0;34m=\u001b[0m\u001b[0mpost_body_dict\u001b[0m\u001b[0;34m,\u001b[0m \u001b[0mheaders\u001b[0m\u001b[0;34m=\u001b[0m\u001b[0m_headers\u001b[0m\u001b[0;34m(\u001b[0m\u001b[0mapi_key\u001b[0m\u001b[0;34m)\u001b[0m\u001b[0;34m)\u001b[0m\u001b[0;34m\u001b[0m\u001b[0;34m\u001b[0m\u001b[0m\n\u001b[0;32m--> 717\u001b[0;31m     \u001b[0mresp\u001b[0m\u001b[0;34m.\u001b[0m\u001b[0mraise_for_status\u001b[0m\u001b[0;34m(\u001b[0m\u001b[0;34m)\u001b[0m\u001b[0;34m\u001b[0m\u001b[0;34m\u001b[0m\u001b[0m\n\u001b[0m\u001b[1;32m    718\u001b[0m     \u001b[0;32mreturn\u001b[0m \u001b[0mresp\u001b[0m\u001b[0;34m\u001b[0m\u001b[0;34m\u001b[0m\u001b[0m\n",
      "\u001b[0;32m~/.pyenv/versions/3.8.12/envs/ateam/lib/python3.8/site-packages/requests/models.py\u001b[0m in \u001b[0;36mraise_for_status\u001b[0;34m(self)\u001b[0m\n\u001b[1;32m    942\u001b[0m         \u001b[0;32mif\u001b[0m \u001b[0mhttp_error_msg\u001b[0m\u001b[0;34m:\u001b[0m\u001b[0;34m\u001b[0m\u001b[0;34m\u001b[0m\u001b[0m\n\u001b[0;32m--> 943\u001b[0;31m             \u001b[0;32mraise\u001b[0m \u001b[0mHTTPError\u001b[0m\u001b[0;34m(\u001b[0m\u001b[0mhttp_error_msg\u001b[0m\u001b[0;34m,\u001b[0m \u001b[0mresponse\u001b[0m\u001b[0;34m=\u001b[0m\u001b[0mself\u001b[0m\u001b[0;34m)\u001b[0m\u001b[0;34m\u001b[0m\u001b[0;34m\u001b[0m\u001b[0m\n\u001b[0m\u001b[1;32m    944\u001b[0m \u001b[0;34m\u001b[0m\u001b[0m\n",
      "\u001b[0;31mHTTPError\u001b[0m: 400 Client Error: Bad Request for url: https://app.baseten.co/model_versions/zq8odg3/predict",
      "\nThe above exception was the direct cause of the following exception:\n",
      "\u001b[0;31mApiError\u001b[0m                                  Traceback (most recent call last)",
      "\u001b[0;32m/var/folders/01/ngz274cj2hz8_ng6hrt6g39w0000gn/T/ipykernel_25691/187640050.py\u001b[0m in \u001b[0;36m<cell line: 13>\u001b[0;34m()\u001b[0m\n\u001b[1;32m     11\u001b[0m \u001b[0;31m# serial_req = JSONEncoder().encode(request)\u001b[0m\u001b[0;34m\u001b[0m\u001b[0;34m\u001b[0m\u001b[0;34m\u001b[0m\u001b[0m\n\u001b[1;32m     12\u001b[0m \u001b[0;34m\u001b[0m\u001b[0m\n\u001b[0;32m---> 13\u001b[0;31m \u001b[0mb10_model\u001b[0m\u001b[0;34m.\u001b[0m\u001b[0mpredict\u001b[0m\u001b[0;34m(\u001b[0m\u001b[0;34m[\u001b[0m\u001b[0mrequest\u001b[0m\u001b[0;34m]\u001b[0m\u001b[0;34m,\u001b[0m \u001b[0mprediction_only\u001b[0m\u001b[0;34m=\u001b[0m\u001b[0;32mFalse\u001b[0m\u001b[0;34m)\u001b[0m\u001b[0;34m\u001b[0m\u001b[0;34m\u001b[0m\u001b[0m\n\u001b[0m",
      "\u001b[0;32m~/.pyenv/versions/3.8.12/envs/ateam/lib/python3.8/site-packages/baseten/common/core.py\u001b[0m in \u001b[0;36mwrapper\u001b[0;34m(*args, **kwargs)\u001b[0m\n\u001b[1;32m     72\u001b[0m             \u001b[0;32mreturn\u001b[0m \u001b[0mfunc\u001b[0m\u001b[0;34m(\u001b[0m\u001b[0;34m*\u001b[0m\u001b[0margs\u001b[0m\u001b[0;34m,\u001b[0m \u001b[0;34m**\u001b[0m\u001b[0mkwargs\u001b[0m\u001b[0;34m)\u001b[0m\u001b[0;34m\u001b[0m\u001b[0;34m\u001b[0m\u001b[0m\n\u001b[1;32m     73\u001b[0m         \u001b[0;32mexcept\u001b[0m \u001b[0mRequestException\u001b[0m \u001b[0;32mas\u001b[0m \u001b[0merr\u001b[0m\u001b[0;34m:\u001b[0m\u001b[0;34m\u001b[0m\u001b[0;34m\u001b[0m\u001b[0m\n\u001b[0;32m---> 74\u001b[0;31m             \u001b[0;32mraise\u001b[0m \u001b[0mApiError\u001b[0m\u001b[0;34m(\u001b[0m\u001b[0;34mf'Error calling {func.__name__}.'\u001b[0m\u001b[0;34m,\u001b[0m \u001b[0mresponse\u001b[0m\u001b[0;34m=\u001b[0m\u001b[0merr\u001b[0m\u001b[0;34m.\u001b[0m\u001b[0mresponse\u001b[0m\u001b[0;34m)\u001b[0m \u001b[0;32mfrom\u001b[0m \u001b[0merr\u001b[0m\u001b[0;34m\u001b[0m\u001b[0;34m\u001b[0m\u001b[0m\n\u001b[0m\u001b[1;32m     75\u001b[0m     \u001b[0;32mreturn\u001b[0m \u001b[0mwrapper\u001b[0m\u001b[0;34m\u001b[0m\u001b[0;34m\u001b[0m\u001b[0m\n\u001b[1;32m     76\u001b[0m \u001b[0;34m\u001b[0m\u001b[0m\n",
      "\u001b[0;31mApiError\u001b[0m: Error calling predict.\n<Server response: b'{\"error\": \"Failed to invoke model version zq8odg3. \\\\nTraceback (most recent call last):\\\\n  File \\\\\"/app/model_wrapper.py\\\\\", line 55, in predict\\\\n    return self._model.predict(request)\\\\n  File \\\\\"/app/model/model.py\\\\\", line 44, in predict\\\\n    result = self._model.predict(inputs)\\\\n  File \\\\\"/usr/local/lib/python3.8/site-packages/sklearn/pipeline.py\\\\\", line 457, in predict\\\\n    Xt = transform.transform(Xt)\\\\n  File \\\\\"/packages/pipelines/lr_model/steps.py\\\\\", line 15, in transform\\\\n    return [self._disqualify(*x) for x in X]\\\\n  File \\\\\"/packages/pipelines/lr_model/steps.py\\\\\", line 15, in <listcomp>\\\\n    return [self._disqualify(*x) for x in X]\\\\n  File \\\\\"/packages/pipelines/lr_model/steps.py\\\\\", line 22, in _disqualify\\\\n    disqualified = Disqualify.check_if_disqualified(\\\\n  File \\\\\"/packages/pipelines/lr_model/steps.py\\\\\", line 36, in check_if_disqualified\\\\n    if builder.get(\\\\\"feature1\\\\\") is None:\\\\nAttributeError: \\'str\\' object has no attribute \\'get\\'\\\\n\"}'>"
     ]
    }
   ],
   "source": [
    "import json\n",
    "from bson import ObjectId\n",
    "\n",
    "class JSONEncoder(json.JSONEncoder):\n",
    "    def default(self, o):\n",
    "        if isinstance(o, ObjectId):\n",
    "            return str(o)\n",
    "        return json.JSONEncoder.default(self, o)\n",
    "\n",
    "request = {'role': ROLE, 'builder': BUILDER}\n",
    "# serial_req = JSONEncoder().encode(request)\n",
    "\n",
    "b10_model.predict([request], prediction_only=False)"
   ]
  },
  {
   "cell_type": "code",
   "execution_count": 11,
   "metadata": {},
   "outputs": [
    {
     "name": "stdout",
     "output_type": "stream",
     "text": [
      "{\"error\": \"Failed to invoke model version zq8odg3. \\nTraceback (most recent call last):\\n  File \\\"/app/model_wrapper.py\\\", line 55, in predict\\n    return self._model.predict(request)\\n  File \\\"/app/model/model.py\\\", line 44, in predict\\n    result = self._model.predict(inputs)\\n  File \\\"/usr/local/lib/python3.8/site-packages/sklearn/pipeline.py\\\", line 457, in predict\\n    Xt = transform.transform(Xt)\\n  File \\\"/packages/pipelines/lr_model/steps.py\\\", line 15, in transform\\n    return [self._disqualify(*x) for x in X]\\n  File \\\"/packages/pipelines/lr_model/steps.py\\\", line 15, in <listcomp>\\n    return [self._disqualify(*x) for x in X]\\n  File \\\"/packages/pipelines/lr_model/steps.py\\\", line 22, in _disqualify\\n    disqualified = Disqualify.check_if_disqualified(\\n  File \\\"/packages/pipelines/lr_model/steps.py\\\", line 36, in check_if_disqualified\\n    if builder.get(\\\"feature1\\\") is None:\\nAttributeError: 'str' object has no attribute 'get'\\n\"}"
     ]
    }
   ],
   "source": [
    "!curl -X POST https://app.baseten.co/model_versions/zq8odg3/predict -H 'Authorization: Api-Key ' -d '{\"inputs\": [{\"role\": {\"feature1\": \"abcdef123456abcdef123453\", \"feature2\": \"abcdef123456abcdef123453\", \"feature3\": \"abcdef123456abcdef123453\", \"feature4\": \"abcdef123456abcdef123454\", \"feature5\": \"abcdef123456abcdef543210\"}, \"builder\": {\"feature1\": \"abcdef123456abcdef123453\", \"feature2\": \"abcdef123456abcdef123453\", \"feature3\": \"abcdef123456abcdef543210\", \"feature4\": \"abcdef123456abcdef123454\", \"feature5\": \"abcdef123456abcdef123453\"}}]}'"
   ]
  },
  {
   "cell_type": "code",
   "execution_count": null,
   "metadata": {},
   "outputs": [],
   "source": []
  }
 ],
 "metadata": {
  "kernelspec": {
   "display_name": "Python 3.8.12 64-bit ('ateam')",
   "language": "python",
   "name": "python3"
  },
  "language_info": {
   "codemirror_mode": {
    "name": "ipython",
    "version": 3
   },
   "file_extension": ".py",
   "mimetype": "text/x-python",
   "name": "python",
   "nbconvert_exporter": "python",
   "pygments_lexer": "ipython3",
   "version": "3.8.12"
  },
  "orig_nbformat": 4,
  "vscode": {
   "interpreter": {
    "hash": "4878422ae6b18bff2b710e8deaf16df4489ba686b29e3a211ba228db607725ab"
   }
  }
 },
 "nbformat": 4,
 "nbformat_minor": 2
}
