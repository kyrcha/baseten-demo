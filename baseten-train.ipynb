{
 "cells": [
  {
   "cell_type": "markdown",
   "metadata": {},
   "source": [
    "# Baseten custom pipeline use case\n",
    "\n",
    "Let's assume that we want to upload the following pipeline to be served by baseten. Some differences with the standard use case are:\n",
    "- It is a scikit-learn pipeline instead of a simple scikit-learn model\n",
    "- Basides 3rd party libraries that could be install via a `requirements.txt` file, it has also local dependencies"
   ]
  },
  {
   "cell_type": "code",
   "execution_count": 1,
   "metadata": {},
   "outputs": [
    {
     "name": "stdout",
     "output_type": "stream",
     "text": [
      "Requirement already satisfied: truss==0.0.30 in /Users/bola/.asdf/installs/python/3.9.9/lib/python3.9/site-packages (0.0.30)\n",
      "Requirement already satisfied: baseten==0.2.1 in /Users/bola/.asdf/installs/python/3.9.9/lib/python3.9/site-packages (0.2.1)\n",
      "Requirement already satisfied: PyYAML<7.0,>=6.0 in /Users/bola/.asdf/installs/python/3.9.9/lib/python3.9/site-packages (from truss==0.0.30) (6.0)\n",
      "Requirement already satisfied: Jinja2<4.0.0,>=3.1.2 in /Users/bola/.asdf/installs/python/3.9.9/lib/python3.9/site-packages (from truss==0.0.30) (3.1.2)\n",
      "Requirement already satisfied: msgpack-numpy>=0.4.7.1 in /Users/bola/.asdf/installs/python/3.9.9/lib/python3.9/site-packages (from truss==0.0.30) (0.4.7.1)\n",
      "Requirement already satisfied: numpy>=1.18 in /Users/bola/.asdf/installs/python/3.9.9/lib/python3.9/site-packages (from truss==0.0.30) (1.21.6)\n",
      "Requirement already satisfied: packaging<21.0,>=20.9 in /Users/bola/.asdf/installs/python/3.9.9/lib/python3.9/site-packages (from truss==0.0.30) (20.9)\n",
      "Requirement already satisfied: python-on-whales<0.47.0,>=0.46.0 in /Users/bola/.asdf/installs/python/3.9.9/lib/python3.9/site-packages (from truss==0.0.30) (0.46.0)\n",
      "Requirement already satisfied: tenacity<9.0.0,>=8.0.1 in /Users/bola/.asdf/installs/python/3.9.9/lib/python3.9/site-packages (from truss==0.0.30) (8.0.1)\n",
      "Requirement already satisfied: msgpack>=1.0.2 in /Users/bola/.asdf/installs/python/3.9.9/lib/python3.9/site-packages (from truss==0.0.30) (1.0.2)\n",
      "Requirement already satisfied: python-json-logger>=2.0.2 in /Users/bola/.asdf/installs/python/3.9.9/lib/python3.9/site-packages (from truss==0.0.30) (2.0.2)\n",
      "Requirement already satisfied: requests>=2.22 in /Users/bola/.asdf/installs/python/3.9.9/lib/python3.9/site-packages (from baseten==0.2.1) (2.28.0)\n",
      "Requirement already satisfied: joblib>=0.12.5 in /Users/bola/.asdf/installs/python/3.9.9/lib/python3.9/site-packages (from baseten==0.2.1) (1.1.0)\n",
      "Requirement already satisfied: click>=7.0 in /Users/bola/.asdf/installs/python/3.9.9/lib/python3.9/site-packages (from baseten==0.2.1) (8.0.1)\n",
      "Requirement already satisfied: colorama>=0.4.3 in /Users/bola/.asdf/installs/python/3.9.9/lib/python3.9/site-packages (from baseten==0.2.1) (0.4.5)\n",
      "Requirement already satisfied: coolname>=1.1.0 in /Users/bola/.asdf/installs/python/3.9.9/lib/python3.9/site-packages (from baseten==0.2.1) (1.1.0)\n",
      "Requirement already satisfied: requests-toolbelt<0.10.0,>=0.9.1 in /Users/bola/.asdf/installs/python/3.9.9/lib/python3.9/site-packages (from baseten==0.2.1) (0.9.1)\n",
      "Requirement already satisfied: tqdm<5.0.0,>=4.62.1 in /Users/bola/.asdf/installs/python/3.9.9/lib/python3.9/site-packages (from baseten==0.2.1) (4.64.0)\n",
      "Requirement already satisfied: MarkupSafe>=2.0 in /Users/bola/.asdf/installs/python/3.9.9/lib/python3.9/site-packages (from Jinja2<4.0.0,>=3.1.2->truss==0.0.30) (2.1.1)\n",
      "Requirement already satisfied: pyparsing>=2.0.2 in /Users/bola/.asdf/installs/python/3.9.9/lib/python3.9/site-packages (from packaging<21.0,>=20.9->truss==0.0.30) (3.0.9)\n",
      "Requirement already satisfied: typing-extensions in /Users/bola/.asdf/installs/python/3.9.9/lib/python3.9/site-packages (from python-on-whales<0.47.0,>=0.46.0->truss==0.0.30) (4.2.0)\n",
      "Requirement already satisfied: typer>=0.4.1 in /Users/bola/.asdf/installs/python/3.9.9/lib/python3.9/site-packages (from python-on-whales<0.47.0,>=0.46.0->truss==0.0.30) (0.6.1)\n",
      "Requirement already satisfied: pydantic in /Users/bola/.asdf/installs/python/3.9.9/lib/python3.9/site-packages (from python-on-whales<0.47.0,>=0.46.0->truss==0.0.30) (1.9.1)\n",
      "Requirement already satisfied: urllib3<1.27,>=1.21.1 in /Users/bola/.asdf/installs/python/3.9.9/lib/python3.9/site-packages (from requests>=2.22->baseten==0.2.1) (1.26.9)\n",
      "Requirement already satisfied: idna<4,>=2.5 in /Users/bola/.asdf/installs/python/3.9.9/lib/python3.9/site-packages (from requests>=2.22->baseten==0.2.1) (3.3)\n",
      "Requirement already satisfied: certifi>=2017.4.17 in /Users/bola/.asdf/installs/python/3.9.9/lib/python3.9/site-packages (from requests>=2.22->baseten==0.2.1) (2022.6.15)\n",
      "Requirement already satisfied: charset-normalizer~=2.0.0 in /Users/bola/.asdf/installs/python/3.9.9/lib/python3.9/site-packages (from requests>=2.22->baseten==0.2.1) (2.0.12)\n"
     ]
    }
   ],
   "source": [
    "!pip install truss==0.0.30 baseten==0.2.1"
   ]
  },
  {
   "cell_type": "code",
   "execution_count": 2,
   "metadata": {},
   "outputs": [
    {
     "name": "stdout",
     "output_type": "stream",
     "text": [
      "0.1.28\n"
     ]
    }
   ],
   "source": []
  },
  {
   "cell_type": "code",
   "execution_count": 3,
   "metadata": {},
   "outputs": [
    {
     "name": "stdout",
     "output_type": "stream",
     "text": [
      "0.0.20\n"
     ]
    }
   ],
   "source": []
  },
  {
   "cell_type": "code",
   "execution_count": 1,
   "metadata": {},
   "outputs": [
    {
     "data": {
      "text/plain": [
       "array([[0.11920292, 0.88079708]])"
      ]
     },
     "execution_count": 1,
     "metadata": {},
     "output_type": "execute_result"
    }
   ],
   "source": [
    "import numpy as np\n",
    "import sys\n",
    "sys.path.insert(0, './pipelines/lr_model/')\n",
    "sys.path.insert(0, './models/')\n",
    "from joblib import dump\n",
    "from sklearn.pipeline import Pipeline\n",
    "from sklearn.linear_model import LogisticRegression\n",
    "from pipelines.lr_model.steps import (Disqualify, FeatureCalculator)\n",
    "\n",
    "LEARNED_INTERCEPT = -1\n",
    "LEARNED_COEFFICIENTS = [2, 1, 0, 0, 1]\n",
    "lr_model = LogisticRegression()\n",
    "lr_model.classes_ = np.array([0, 1])\n",
    "lr_model.intercept_ = LEARNED_INTERCEPT\n",
    "lr_model.coef_ = np.array([LEARNED_COEFFICIENTS])\n",
    "\n",
    "pipeline = Pipeline(\n",
    "    steps=[\n",
    "        (\"step1\", Disqualify()),\n",
    "        (\n",
    "            \"step2\",\n",
    "            FeatureCalculator(check_qualified=True),\n",
    "        ),\n",
    "        (\"model\", lr_model),\n",
    "    ]\n",
    ")\n",
    "\n",
    "from bson.objectid import ObjectId\n",
    "\n",
    "SID0 = ObjectId(\"abcdef123456abcdef123453\")\n",
    "SID1 = ObjectId(\"abcdef123456abcdef123453\")\n",
    "SID2 = ObjectId(\"abcdef123456abcdef123454\")\n",
    "SID3 = ObjectId(\"abcdef123456abcdef123454\")\n",
    "SID4 = ObjectId(\"abcdef123456abcdef543210\")\n",
    "\n",
    "BUILDER = {\n",
    "    \"feature1\": SID0,\n",
    "    \"feature2\": SID1,\n",
    "    \"feature3\": SID4,\n",
    "    \"feature4\": SID2,\n",
    "    \"feature5\": SID1,\n",
    "}\n",
    "\n",
    "ROLE = {\n",
    "    \"feature1\": SID0,\n",
    "    \"feature2\": SID1,\n",
    "    \"feature3\": SID1,\n",
    "    \"feature4\": SID3,\n",
    "    \"feature5\": SID4,\n",
    "}\n",
    "\n",
    "pipeline.predict_proba([(x, ROLE) for x in [BUILDER]])\n",
    "\n",
    "# somehow I should upload this pipeline and the necessary local dependencies to baseten"
   ]
  },
  {
   "cell_type": "markdown",
   "metadata": {},
   "source": [
    "## Package Model"
   ]
  },
  {
   "cell_type": "code",
   "execution_count": 2,
   "metadata": {},
   "outputs": [
    {
     "name": "stderr",
     "output_type": "stream",
     "text": [
      "/Users/bola/repos/a.team/baseten-demo/.env/lib/python3.9/site-packages/_distutils_hack/__init__.py:33: UserWarning: Setuptools is replacing distutils.\n",
      "  warnings.warn(\"Setuptools is replacing distutils.\")\n"
     ]
    }
   ],
   "source": [
    "import truss\n",
    "handle = truss.mk_truss(pipeline, target_directory=\"./pipeline_truss/\", requirements_file=\"./requirements.txt\", bundled_packages=[\"./models/\", \"./pipelines/\"])"
   ]
  },
  {
   "cell_type": "markdown",
   "metadata": {},
   "source": [
    "## Test Locally"
   ]
  },
  {
   "cell_type": "code",
   "execution_count": 3,
   "metadata": {},
   "outputs": [
    {
     "data": {
      "text/plain": [
       "{'predictions': array([1]),\n",
       " 'probabilities': [[0.11920292202211769, 0.8807970779778823]]}"
      ]
     },
     "execution_count": 3,
     "metadata": {},
     "output_type": "execute_result"
    }
   ],
   "source": [
    "handle.server_predict({'inputs': list([(x, ROLE) for x in [BUILDER]])})"
   ]
  },
  {
   "cell_type": "markdown",
   "metadata": {},
   "source": [
    "## Deploy to Baseten"
   ]
  },
  {
   "cell_type": "code",
   "execution_count": 4,
   "metadata": {},
   "outputs": [
    {
     "name": "stderr",
     "output_type": "stream",
     "text": [
      "\u001b[32mINFO\u001b[0m API key set.\n"
     ]
    }
   ],
   "source": [
    "import baseten\n",
    "baseten.login(\"\")"
   ]
  },
  {
   "cell_type": "code",
   "execution_count": 5,
   "metadata": {},
   "outputs": [
    {
     "name": "stderr",
     "output_type": "stream",
     "text": [
      "\u001b[32mINFO\u001b[0m Serializing \u001b[34mtest-truss-old\u001b[0m truss.\n",
      "\u001b[32mINFO\u001b[0m Making contact with BaseTen 👋 👽\n",
      "\u001b[32mINFO\u001b[0m 🚀 Uploading model to BaseTen 🚀\n",
      "Upload Progress: 100% |\u001b[34m████████████████████████████████████████████████████████████████████████████████████████████████████\u001b[39m| 7.22k/7.22k\n",
      "\u001b[32mINFO\u001b[0m 🔮 Upload successful!🔮\n",
      "\u001b[32mINFO\u001b[0m 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\n",
      "\u001b[32mINFO\u001b[0m Successfully created version \u001b[34myqvvpxq\u001b[0m for test-truss-old.\n",
      "\u001b[32mINFO\u001b[0m \u001b[34m Deploying model version.\n",
      "\u001b[32mINFO\u001b[0m 🏁 The model is being built and deployed right now 🏁\n",
      "\u001b[32mINFO\u001b[0m -------------------------------------------------------------------------------\n",
      "\u001b[32mINFO\u001b[0m |  Visit \u001b[34mhttps://app.staging.baseten.co/models/pBD66Pb\u001b[0m for deployment status  |\n",
      "\u001b[32mINFO\u001b[0m -------------------------------------------------------------------------------\n"
     ]
    }
   ],
   "source": [
    "b10_model = baseten.deploy_truss(handle, model_name='test-truss-old')"
   ]
  },
  {
   "cell_type": "code",
   "execution_count": 10,
   "metadata": {},
   "outputs": [
    {
     "ename": "ApiError",
     "evalue": "Error calling predict.\n<Server response: b'{\"error\": \"Failed to invoke model version yqvvpxq. \\\\nTraceback (most recent call last):\\\\n  File \\\\\"/app/model_wrapper.py\\\\\", line 55, in predict\\\\n    return self._model.predict(request)\\\\n  File \\\\\"/app/model/model.py\\\\\", line 41, in predict\\\\n    result = self._model.predict(inputs)\\\\n  File \\\\\"/usr/local/lib/python3.9/site-packages/sklearn/pipeline.py\\\\\", line 457, in predict\\\\n    Xt = transform.transform(Xt)\\\\n  File \\\\\"/packages/pipelines/lr_model/steps.py\\\\\", line 14, in transform\\\\n    return [self._disqualify(*x) for x in X]\\\\n  File \\\\\"/packages/pipelines/lr_model/steps.py\\\\\", line 14, in <listcomp>\\\\n    return [self._disqualify(*x) for x in X]\\\\nTypeError: _disqualify() takes 2 positional arguments but 423 were given\\\\n\"}'>",
     "output_type": "error",
     "traceback": [
      "\u001b[0;31m---------------------------------------------------------------------------\u001b[0m",
      "\u001b[0;31mHTTPError\u001b[0m                                 Traceback (most recent call last)",
      "File \u001b[0;32m~/repos/a.team/baseten-demo/.env/lib/python3.9/site-packages/baseten/common/core.py:72\u001b[0m, in \u001b[0;36mraises_api_error.<locals>.wrapper\u001b[0;34m(*args, **kwargs)\u001b[0m\n\u001b[1;32m     71\u001b[0m \u001b[39mtry\u001b[39;00m:\n\u001b[0;32m---> 72\u001b[0m     \u001b[39mreturn\u001b[39;00m func(\u001b[39m*\u001b[39;49margs, \u001b[39m*\u001b[39;49m\u001b[39m*\u001b[39;49mkwargs)\n\u001b[1;32m     73\u001b[0m \u001b[39mexcept\u001b[39;00m RequestException \u001b[39mas\u001b[39;00m err:\n",
      "File \u001b[0;32m~/repos/a.team/baseten-demo/.env/lib/python3.9/site-packages/baseten/baseten_deployed_model.py:106\u001b[0m, in \u001b[0;36mBasetenDeployedModel.predict\u001b[0;34m(self, inputs, metadata, prediction_only)\u001b[0m\n\u001b[1;32m    105\u001b[0m \u001b[39mif\u001b[39;00m \u001b[39mself\u001b[39m\u001b[39m.\u001b[39m_model_version_id:\n\u001b[0;32m--> 106\u001b[0m     \u001b[39mreturn\u001b[39;00m api\u001b[39m.\u001b[39;49mpredict_for_model_version(\u001b[39mself\u001b[39;49m\u001b[39m.\u001b[39;49m_model_version_id, inputs_list, metadata, prediction_only)\n\u001b[1;32m    107\u001b[0m \u001b[39mreturn\u001b[39;00m api\u001b[39m.\u001b[39mpredict_for_model(\u001b[39mself\u001b[39m\u001b[39m.\u001b[39m_model_id, inputs_list, metadata, prediction_only)\n",
      "File \u001b[0;32m~/repos/a.team/baseten-demo/.env/lib/python3.9/site-packages/baseten/common/api.py:30\u001b[0m, in \u001b[0;36mwith_api_key.<locals>.wrapper\u001b[0;34m(*args, **kwargs)\u001b[0m\n\u001b[1;32m     29\u001b[0m     \u001b[39mraise\u001b[39;00m AuthorizationError(\u001b[39m'\u001b[39m\u001b[39mYou must first run the `baseten login` cli command.\u001b[39m\u001b[39m'\u001b[39m)\n\u001b[0;32m---> 30\u001b[0m result \u001b[39m=\u001b[39m func(api_key, \u001b[39m*\u001b[39;49margs, \u001b[39m*\u001b[39;49m\u001b[39m*\u001b[39;49mkwargs)\n\u001b[1;32m     31\u001b[0m \u001b[39mreturn\u001b[39;00m result\n",
      "File \u001b[0;32m~/repos/a.team/baseten-demo/.env/lib/python3.9/site-packages/baseten/common/api.py:608\u001b[0m, in \u001b[0;36mpredict_for_model_version\u001b[0;34m(api_key, model_version_id, inputs, metadata, prediction_only)\u001b[0m\n\u001b[1;32m    607\u001b[0m predict_url \u001b[39m=\u001b[39m \u001b[39mf\u001b[39m\u001b[39m'\u001b[39m\u001b[39m{\u001b[39;00msettings\u001b[39m.\u001b[39mAPI_URL_BASE\u001b[39m}\u001b[39;00m\u001b[39m/model_versions/\u001b[39m\u001b[39m{\u001b[39;00mmodel_version_id\u001b[39m}\u001b[39;00m\u001b[39m/predict\u001b[39m\u001b[39m'\u001b[39m\n\u001b[0;32m--> 608\u001b[0m \u001b[39mreturn\u001b[39;00m _predict(api_key, predict_url, inputs, metadata, prediction_only)\n",
      "File \u001b[0;32m~/repos/a.team/baseten-demo/.env/lib/python3.9/site-packages/baseten/common/api.py:694\u001b[0m, in \u001b[0;36m_predict\u001b[0;34m(api_key, predict_url, inputs, metadata, prediction_only)\u001b[0m\n\u001b[1;32m    689\u001b[0m \u001b[39mdef\u001b[39;00m \u001b[39m_predict\u001b[39m(api_key,\n\u001b[1;32m    690\u001b[0m              predict_url: \u001b[39mstr\u001b[39m,\n\u001b[1;32m    691\u001b[0m              inputs: \u001b[39mlist\u001b[39m,\n\u001b[1;32m    692\u001b[0m              metadata: List[Dict] \u001b[39m=\u001b[39m \u001b[39mNone\u001b[39;00m,\n\u001b[1;32m    693\u001b[0m              prediction_only: \u001b[39mbool\u001b[39m \u001b[39m=\u001b[39m \u001b[39mTrue\u001b[39;00m) \u001b[39m-\u001b[39m\u001b[39m>\u001b[39m Union[List[List], Dict]:\n\u001b[0;32m--> 694\u001b[0m     resp \u001b[39m=\u001b[39m _post_rest_query(api_key, predict_url, {\u001b[39m'\u001b[39;49m\u001b[39minputs\u001b[39;49m\u001b[39m'\u001b[39;49m: inputs, \u001b[39m'\u001b[39;49m\u001b[39mmetadata\u001b[39;49m\u001b[39m'\u001b[39;49m: metadata})\n\u001b[1;32m    695\u001b[0m     resp_json \u001b[39m=\u001b[39m json\u001b[39m.\u001b[39mloads(resp\u001b[39m.\u001b[39mcontent)\n",
      "File \u001b[0;32m~/repos/a.team/baseten-demo/.env/lib/python3.9/site-packages/baseten/common/api.py:717\u001b[0m, in \u001b[0;36m_post_rest_query\u001b[0;34m(api_key, url, post_body_dict)\u001b[0m\n\u001b[1;32m    716\u001b[0m resp \u001b[39m=\u001b[39m requests\u001b[39m.\u001b[39mpost(url, json\u001b[39m=\u001b[39mpost_body_dict, headers\u001b[39m=\u001b[39m_headers(api_key))\n\u001b[0;32m--> 717\u001b[0m resp\u001b[39m.\u001b[39;49mraise_for_status()\n\u001b[1;32m    718\u001b[0m \u001b[39mreturn\u001b[39;00m resp\n",
      "File \u001b[0;32m~/repos/a.team/baseten-demo/.env/lib/python3.9/site-packages/requests/models.py:1021\u001b[0m, in \u001b[0;36mResponse.raise_for_status\u001b[0;34m(self)\u001b[0m\n\u001b[1;32m   1020\u001b[0m \u001b[39mif\u001b[39;00m http_error_msg:\n\u001b[0;32m-> 1021\u001b[0m     \u001b[39mraise\u001b[39;00m HTTPError(http_error_msg, response\u001b[39m=\u001b[39m\u001b[39mself\u001b[39m)\n",
      "\u001b[0;31mHTTPError\u001b[0m: 400 Client Error: Bad Request for url: https://app.staging.baseten.co/model_versions/yqvvpxq/predict",
      "\nThe above exception was the direct cause of the following exception:\n",
      "\u001b[0;31mApiError\u001b[0m                                  Traceback (most recent call last)",
      "\u001b[1;32m/Users/bola/repos/a.team/baseten-demo/baseten-train.ipynb Cell 13\u001b[0m in \u001b[0;36m<cell line: 13>\u001b[0;34m()\u001b[0m\n\u001b[1;32m     <a href='vscode-notebook-cell:/Users/bola/repos/a.team/baseten-demo/baseten-train.ipynb#ch0000010?line=9'>10</a>\u001b[0m request \u001b[39m=\u001b[39m {\u001b[39m'\u001b[39m\u001b[39mrole\u001b[39m\u001b[39m'\u001b[39m: ROLE, \u001b[39m'\u001b[39m\u001b[39mbuilder\u001b[39m\u001b[39m'\u001b[39m: BUILDER}\n\u001b[1;32m     <a href='vscode-notebook-cell:/Users/bola/repos/a.team/baseten-demo/baseten-train.ipynb#ch0000010?line=10'>11</a>\u001b[0m serial_req \u001b[39m=\u001b[39m JSONEncoder()\u001b[39m.\u001b[39mencode(request)\n\u001b[0;32m---> <a href='vscode-notebook-cell:/Users/bola/repos/a.team/baseten-demo/baseten-train.ipynb#ch0000010?line=12'>13</a>\u001b[0m b10_model\u001b[39m.\u001b[39;49mpredict([serial_req])\n",
      "File \u001b[0;32m~/repos/a.team/baseten-demo/.env/lib/python3.9/site-packages/baseten/common/core.py:74\u001b[0m, in \u001b[0;36mraises_api_error.<locals>.wrapper\u001b[0;34m(*args, **kwargs)\u001b[0m\n\u001b[1;32m     72\u001b[0m     \u001b[39mreturn\u001b[39;00m func(\u001b[39m*\u001b[39margs, \u001b[39m*\u001b[39m\u001b[39m*\u001b[39mkwargs)\n\u001b[1;32m     73\u001b[0m \u001b[39mexcept\u001b[39;00m RequestException \u001b[39mas\u001b[39;00m err:\n\u001b[0;32m---> 74\u001b[0m     \u001b[39mraise\u001b[39;00m ApiError(\u001b[39mf\u001b[39m\u001b[39m'\u001b[39m\u001b[39mError calling \u001b[39m\u001b[39m{\u001b[39;00mfunc\u001b[39m.\u001b[39m\u001b[39m__name__\u001b[39m\u001b[39m}\u001b[39;00m\u001b[39m.\u001b[39m\u001b[39m'\u001b[39m, response\u001b[39m=\u001b[39merr\u001b[39m.\u001b[39mresponse) \u001b[39mfrom\u001b[39;00m \u001b[39merr\u001b[39;00m\n",
      "\u001b[0;31mApiError\u001b[0m: Error calling predict.\n<Server response: b'{\"error\": \"Failed to invoke model version yqvvpxq. \\\\nTraceback (most recent call last):\\\\n  File \\\\\"/app/model_wrapper.py\\\\\", line 55, in predict\\\\n    return self._model.predict(request)\\\\n  File \\\\\"/app/model/model.py\\\\\", line 41, in predict\\\\n    result = self._model.predict(inputs)\\\\n  File \\\\\"/usr/local/lib/python3.9/site-packages/sklearn/pipeline.py\\\\\", line 457, in predict\\\\n    Xt = transform.transform(Xt)\\\\n  File \\\\\"/packages/pipelines/lr_model/steps.py\\\\\", line 14, in transform\\\\n    return [self._disqualify(*x) for x in X]\\\\n  File \\\\\"/packages/pipelines/lr_model/steps.py\\\\\", line 14, in <listcomp>\\\\n    return [self._disqualify(*x) for x in X]\\\\nTypeError: _disqualify() takes 2 positional arguments but 423 were given\\\\n\"}'>"
     ]
    }
   ],
   "source": [
    "import json\n",
    "from bson import ObjectId\n",
    "\n",
    "class JSONEncoder(json.JSONEncoder):\n",
    "    def default(self, o):\n",
    "        if isinstance(o, ObjectId):\n",
    "            return str(o)\n",
    "        return json.JSONEncoder.default(self, o)\n",
    "\n",
    "request = {'role': ROLE, 'builder': BUILDER}\n",
    "serial_req = JSONEncoder().encode(request)\n",
    "\n",
    "b10_model.predict([serial_req], prediction_only=False)"
   ]
  },
  {
   "cell_type": "code",
   "execution_count": null,
   "metadata": {},
   "outputs": [],
   "source": []
  }
 ],
 "metadata": {
  "kernelspec": {
   "display_name": "Python 3.9.9 ('.env': venv)",
   "language": "python",
   "name": "python3"
  },
  "language_info": {
   "codemirror_mode": {
    "name": "ipython",
    "version": 3
   },
   "file_extension": ".py",
   "mimetype": "text/x-python",
   "name": "python",
   "nbconvert_exporter": "python",
   "pygments_lexer": "ipython3",
   "version": "3.9.9"
  },
  "orig_nbformat": 4,
  "vscode": {
   "interpreter": {
    "hash": "7cf7f36e8f947b719d1dd387478c4bb420048063a82a5da034d05e3bde3187d0"
   }
  }
 },
 "nbformat": 4,
 "nbformat_minor": 2
}
