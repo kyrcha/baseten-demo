{
 "cells": [
  {
   "cell_type": "code",
   "execution_count": 1,
   "metadata": {},
   "outputs": [
    {
     "data": {
      "text/plain": [
       "[({'feature1': 'abcdef123456abcdef123453',\n",
       "   'feature2': 'abcdef123456abcdef123453',\n",
       "   'feature3': 'abcdef123456abcdef543210',\n",
       "   'feature4': 'abcdef123456abcdef123454',\n",
       "   'feature5': 'abcdef123456abcdef123453'},\n",
       "  {'feature1': 'abcdef123456abcdef123453',\n",
       "   'feature2': 'abcdef123456abcdef123453',\n",
       "   'feature3': 'abcdef123456abcdef123453',\n",
       "   'feature4': 'abcdef123456abcdef123454',\n",
       "   'feature5': 'abcdef123456abcdef543210'})]"
      ]
     },
     "execution_count": 1,
     "metadata": {},
     "output_type": "execute_result"
    }
   ],
   "source": [
    "from bson.objectid import ObjectId\n",
    "\n",
    "SID0 = \"abcdef123456abcdef123453\"\n",
    "SID1 = \"abcdef123456abcdef123453\"\n",
    "SID2 = \"abcdef123456abcdef123454\"\n",
    "SID3 = \"abcdef123456abcdef123454\"\n",
    "SID4 = \"abcdef123456abcdef543210\"\n",
    "\n",
    "BUILDER = {\n",
    "    \"feature1\": SID0,\n",
    "    \"feature2\": SID1,\n",
    "    \"feature3\": SID4,\n",
    "    \"feature4\": SID2,\n",
    "    \"feature5\": SID1,\n",
    "}\n",
    "\n",
    "ROLE = {\n",
    "    \"feature1\": SID0,\n",
    "    \"feature2\": SID1,\n",
    "    \"feature3\": SID1,\n",
    "    \"feature4\": SID3,\n",
    "    \"feature5\": SID4,\n",
    "}\n",
    "\n",
    "\n",
    "predict_input = list([(x, ROLE) for x in [BUILDER]])\n",
    "\n",
    "predict_input"
   ]
  },
  {
   "cell_type": "code",
   "execution_count": 2,
   "metadata": {},
   "outputs": [
    {
     "data": {
      "text/plain": [
       "'[[{\"feature1\": \"abcdef123456abcdef123453\", \"feature2\": \"abcdef123456abcdef123453\", \"feature3\": \"abcdef123456abcdef543210\", \"feature4\": \"abcdef123456abcdef123454\", \"feature5\": \"abcdef123456abcdef123453\"}, {\"feature1\": \"abcdef123456abcdef123453\", \"feature2\": \"abcdef123456abcdef123453\", \"feature3\": \"abcdef123456abcdef123453\", \"feature4\": \"abcdef123456abcdef123454\", \"feature5\": \"abcdef123456abcdef543210\"}]]'"
      ]
     },
     "execution_count": 2,
     "metadata": {},
     "output_type": "execute_result"
    }
   ],
   "source": [
    "## Make sure that input object is json serializable\n",
    "\n",
    "import json\n",
    "json.dumps(predict_input)"
   ]
  },
  {
   "cell_type": "code",
   "execution_count": 3,
   "metadata": {},
   "outputs": [],
   "source": [
    "import truss"
   ]
  },
  {
   "cell_type": "code",
   "execution_count": 4,
   "metadata": {},
   "outputs": [],
   "source": [
    "# Load the truss\n",
    "handle = truss.from_directory('./pipeline_truss/')"
   ]
  },
  {
   "cell_type": "code",
   "execution_count": 5,
   "metadata": {},
   "outputs": [
    {
     "name": "stdout",
     "output_type": "stream",
     "text": [
      "[({'feature1': 'abcdef123456abcdef123453', 'feature2': 'abcdef123456abcdef123453', 'feature3': 'abcdef123456abcdef543210', 'feature4': 'abcdef123456abcdef123454', 'feature5': 'abcdef123456abcdef123453'}, {'feature1': 'abcdef123456abcdef123453', 'feature2': 'abcdef123456abcdef123453', 'feature3': 'abcdef123456abcdef123453', 'feature4': 'abcdef123456abcdef123454', 'feature5': 'abcdef123456abcdef543210'})]\n",
      "[({'feature1': 'abcdef123456abcdef123453', 'feature2': 'abcdef123456abcdef123453', 'feature3': 'abcdef123456abcdef543210', 'feature4': 'abcdef123456abcdef123454', 'feature5': 'abcdef123456abcdef123453'}, {'feature1': 'abcdef123456abcdef123453', 'feature2': 'abcdef123456abcdef123453', 'feature3': 'abcdef123456abcdef123453', 'feature4': 'abcdef123456abcdef123454', 'feature5': 'abcdef123456abcdef543210'})]\n"
     ]
    },
    {
     "data": {
      "text/plain": [
       "{'predictions': array([1]),\n",
       " 'probabilities': [[0.11920292202211769, 0.8807970779778823]]}"
      ]
     },
     "execution_count": 5,
     "metadata": {},
     "output_type": "execute_result"
    }
   ],
   "source": [
    "# Server predict expects \"inputs\" keyword with a list of inputs\n",
    "handle.server_predict({\"inputs\": predict_input})"
   ]
  },
  {
   "cell_type": "code",
   "execution_count": 8,
   "metadata": {},
   "outputs": [
    {
     "data": {
      "text/plain": [
       "{'predictions': [1],\n",
       " 'probabilities': [[0.11920292202211769, 0.8807970779778823]]}"
      ]
     },
     "execution_count": 8,
     "metadata": {},
     "output_type": "execute_result"
    }
   ],
   "source": [
    "# Docker predict also expects the \"input\"s\" keyword\n",
    "handle.docker_predict({\"inputs\": predict_input})"
   ]
  },
  {
   "cell_type": "code",
   "execution_count": 9,
   "metadata": {},
   "outputs": [],
   "source": [
    "import baseten\n",
    "\n",
    "deploy_new_version = False\n",
    "\n",
    "# API_KEY = \"__________\"\n",
    "# baseten.login(API_KEY)\n",
    "\n",
    "if deploy_new_version:\n",
    "    b10_model = baseten.deploy_truss(handle, model_name=\"Bola's test\", semver_bump='PATCH')\n",
    "else:\n",
    "    # Load a recent model version\n",
    "    b10_model = baseten.deployed_model_version_id('4w77jdw')\n"
   ]
  },
  {
   "cell_type": "code",
   "execution_count": 11,
   "metadata": {},
   "outputs": [
    {
     "data": {
      "text/plain": [
       "{'model_id': 'VqmoRZ0',\n",
       " 'model_version_id': '4w77jdw',\n",
       " 'predictions': [1],\n",
       " 'probabilities': [[0.11920292202211769, 0.8807970779778823]]}"
      ]
     },
     "execution_count": 11,
     "metadata": {},
     "output_type": "execute_result"
    }
   ],
   "source": [
    "# The Baseten client library wraps the input for you so you don't need a dict with a \"inputs\" kw\n",
    "b10_model.predict(predict_input, prediction_only=False)"
   ]
  },
  {
   "cell_type": "code",
   "execution_count": 30,
   "metadata": {},
   "outputs": [
    {
     "data": {
      "text/plain": [
       "{'model_id': 'VqmoRZ0',\n",
       " 'model_version_id': '03ymxv3',\n",
       " 'predictions': [1],\n",
       " 'probabilities': [[0.11920292202211769, 0.8807970779778823]]}"
      ]
     },
     "execution_count": 30,
     "metadata": {},
     "output_type": "execute_result"
    }
   ],
   "source": [
    "# Pass a list to Baseten hosted model predict since it's ready \n",
    "import requests\n",
    "res = requests.post(\n",
    "    \"https://app.baseten.co/model_versions/03ymxv3/predict\",\n",
    "    headers={'Authorization': f\"Api-Key {API_KEY}\"},\n",
    "    json={\"inputs\": predict_input}\n",
    ")\n",
    "res.json()"
   ]
  },
  {
   "cell_type": "code",
   "execution_count": null,
   "metadata": {},
   "outputs": [],
   "source": []
  }
 ],
 "metadata": {
  "kernelspec": {
   "display_name": "Python 3.9.9 ('.env': venv)",
   "language": "python",
   "name": "python3"
  },
  "language_info": {
   "codemirror_mode": {
    "name": "ipython",
    "version": 3
   },
   "file_extension": ".py",
   "mimetype": "text/x-python",
   "name": "python",
   "nbconvert_exporter": "python",
   "pygments_lexer": "ipython3",
   "version": "3.9.9"
  },
  "orig_nbformat": 4,
  "vscode": {
   "interpreter": {
    "hash": "7cf7f36e8f947b719d1dd387478c4bb420048063a82a5da034d05e3bde3187d0"
   }
  }
 },
 "nbformat": 4,
 "nbformat_minor": 2
}
