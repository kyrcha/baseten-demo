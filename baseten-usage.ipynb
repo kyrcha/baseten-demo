{
 "cells": [
  {
   "cell_type": "markdown",
   "metadata": {},
   "source": [
    "Somewhere in the back-end I would like to call the pipeline above either by calling its `predict` method or its `predict_proba` method."
   ]
  },
  {
   "cell_type": "markdown",
   "metadata": {},
   "source": [
    "```\n",
    "...\n",
    "model = baseten.get_model_by_name(\"lr_model\")\n",
    "predictions = model.predict_proba([MAIN_BUILDER_CRITERIA], MAIN_AND_ADDITIONAL_ROLE_CRITERIA)\n",
    "...\n",
    "```"
   ]
  },
  {
   "cell_type": "markdown",
   "metadata": {},
   "source": [
    "Locally calling the example"
   ]
  },
  {
   "cell_type": "code",
   "execution_count": 1,
   "metadata": {},
   "outputs": [
    {
     "name": "stdout",
     "output_type": "stream",
     "text": [
      "[({'feature1': ObjectId('abcdef123456abcdef123453'), 'feature2': ObjectId('abcdef123456abcdef123453'), 'feature3': ObjectId('abcdef123456abcdef543210'), 'feature4': ObjectId('abcdef123456abcdef123454'), 'feature5': ObjectId('abcdef123456abcdef123453')}, {'feature1': ObjectId('abcdef123456abcdef123453'), 'feature2': ObjectId('abcdef123456abcdef123453'), 'feature3': ObjectId('abcdef123456abcdef123453'), 'feature4': ObjectId('abcdef123456abcdef123454'), 'feature5': ObjectId('abcdef123456abcdef543210'), 'qualified': True})]\n",
      "[[0.11920292 0.88079708]]\n"
     ]
    }
   ],
   "source": [
    "from joblib import load\n",
    "import sys\n",
    "sys.path.insert(0, './pipelines/lr_model/')\n",
    "sys.path.insert(0, './models/')\n",
    "\n",
    "from bson.objectid import ObjectId\n",
    "\n",
    "SID0 = ObjectId(\"abcdef123456abcdef123453\")\n",
    "SID1 = ObjectId(\"abcdef123456abcdef123453\")\n",
    "SID2 = ObjectId(\"abcdef123456abcdef123454\")\n",
    "SID3 = ObjectId(\"abcdef123456abcdef123454\")\n",
    "SID4 = ObjectId(\"abcdef123456abcdef543210\")\n",
    "\n",
    "BUILDER = {\n",
    "    \"feature1\": SID0,\n",
    "    \"feature2\": SID1,\n",
    "    \"feature3\": SID4,\n",
    "    \"feature4\": SID2,\n",
    "    \"feature5\": SID1,\n",
    "}\n",
    "\n",
    "ROLE = {\n",
    "    \"feature1\": SID0,\n",
    "    \"feature2\": SID1,\n",
    "    \"feature3\": SID1,\n",
    "    \"feature4\": SID3,\n",
    "    \"feature5\": SID4,\n",
    "}\n",
    "\n",
    "model = load(\"lr_model.joblib\")\n",
    "print(model.predict_proba([(x, ROLE) for x in [BUILDER]]))\n"
   ]
  },
  {
   "cell_type": "code",
   "execution_count": null,
   "metadata": {},
   "outputs": [],
   "source": []
  }
 ],
 "metadata": {
  "kernelspec": {
   "display_name": "Python 3.8.13 64-bit ('a-team')",
   "language": "python",
   "name": "python3"
  },
  "language_info": {
   "codemirror_mode": {
    "name": "ipython",
    "version": 3
   },
   "file_extension": ".py",
   "mimetype": "text/x-python",
   "name": "python",
   "nbconvert_exporter": "python",
   "pygments_lexer": "ipython3",
   "version": "3.8.13"
  },
  "orig_nbformat": 4,
  "vscode": {
   "interpreter": {
    "hash": "fc7740fa1e081256d8f08eff7b69de65d723fe6d81517e0571c5d112b1708720"
   }
  }
 },
 "nbformat": 4,
 "nbformat_minor": 2
}
