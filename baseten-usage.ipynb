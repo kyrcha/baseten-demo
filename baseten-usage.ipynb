{
 "cells": [
  {
   "cell_type": "markdown",
   "metadata": {},
   "source": [
    "Somewhere in the back-end I would like to call the pipeline above either by calling its `predict` method or its `predict_proba` method."
   ]
  },
  {
   "cell_type": "markdown",
   "metadata": {},
   "source": [
    "```\n",
    "...\n",
    "model = baseten.get_model_by_name(\"lr_model\")\n",
    "predictions = model.predict_proba([MAIN_BUILDER_CRITERIA], MAIN_AND_ADDITIONAL_ROLE_CRITERIA)\n",
    "...\n",
    "```"
   ]
  },
  {
   "cell_type": "markdown",
   "metadata": {},
   "source": [
    "Locally calling the example"
   ]
  },
  {
   "cell_type": "code",
   "execution_count": 1,
   "metadata": {},
   "outputs": [
    {
     "name": "stdout",
     "output_type": "stream",
     "text": [
      "Requirement already satisfied: truss==0.0.28 in /Users/bola/.asdf/installs/python/3.9.9/lib/python3.9/site-packages (0.0.28)\n",
      "Requirement already satisfied: baseten==0.2.0 in /Users/bola/.asdf/installs/python/3.9.9/lib/python3.9/site-packages (0.2.0)\n",
      "Requirement already satisfied: PyYAML<7.0,>=6.0 in /Users/bola/.asdf/installs/python/3.9.9/lib/python3.9/site-packages (from truss==0.0.28) (6.0)\n",
      "Requirement already satisfied: msgpack>=1.0.2 in /Users/bola/.asdf/installs/python/3.9.9/lib/python3.9/site-packages (from truss==0.0.28) (1.0.2)\n",
      "Requirement already satisfied: Jinja2<4.0.0,>=3.1.2 in /Users/bola/.asdf/installs/python/3.9.9/lib/python3.9/site-packages (from truss==0.0.28) (3.1.2)\n",
      "Requirement already satisfied: numpy>=1.18 in /Users/bola/.asdf/installs/python/3.9.9/lib/python3.9/site-packages (from truss==0.0.28) (1.21.6)\n",
      "Requirement already satisfied: python-on-whales<0.47.0,>=0.46.0 in /Users/bola/.asdf/installs/python/3.9.9/lib/python3.9/site-packages (from truss==0.0.28) (0.46.0)\n",
      "Requirement already satisfied: msgpack-numpy>=0.4.7.1 in /Users/bola/.asdf/installs/python/3.9.9/lib/python3.9/site-packages (from truss==0.0.28) (0.4.7.1)\n",
      "Requirement already satisfied: tenacity<9.0.0,>=8.0.1 in /Users/bola/.asdf/installs/python/3.9.9/lib/python3.9/site-packages (from truss==0.0.28) (8.0.1)\n",
      "Requirement already satisfied: python-json-logger>=2.0.2 in /Users/bola/.asdf/installs/python/3.9.9/lib/python3.9/site-packages (from truss==0.0.28) (2.0.2)\n",
      "Requirement already satisfied: packaging<21.0,>=20.9 in /Users/bola/.asdf/installs/python/3.9.9/lib/python3.9/site-packages (from truss==0.0.28) (20.9)\n",
      "Requirement already satisfied: requests>=2.22 in /Users/bola/.asdf/installs/python/3.9.9/lib/python3.9/site-packages (from baseten==0.2.0) (2.28.0)\n",
      "Requirement already satisfied: requests-toolbelt<0.10.0,>=0.9.1 in /Users/bola/.asdf/installs/python/3.9.9/lib/python3.9/site-packages (from baseten==0.2.0) (0.9.1)\n",
      "Requirement already satisfied: coolname>=1.1.0 in /Users/bola/.asdf/installs/python/3.9.9/lib/python3.9/site-packages (from baseten==0.2.0) (1.1.0)\n",
      "Requirement already satisfied: joblib>=0.12.5 in /Users/bola/.asdf/installs/python/3.9.9/lib/python3.9/site-packages (from baseten==0.2.0) (1.1.0)\n",
      "Requirement already satisfied: click>=7.0 in /Users/bola/.asdf/installs/python/3.9.9/lib/python3.9/site-packages (from baseten==0.2.0) (8.0.1)\n",
      "Requirement already satisfied: colorama>=0.4.3 in /Users/bola/.asdf/installs/python/3.9.9/lib/python3.9/site-packages (from baseten==0.2.0) (0.4.5)\n",
      "Requirement already satisfied: tqdm<5.0.0,>=4.62.1 in /Users/bola/.asdf/installs/python/3.9.9/lib/python3.9/site-packages (from baseten==0.2.0) (4.64.0)\n",
      "Requirement already satisfied: MarkupSafe>=2.0 in /Users/bola/.asdf/installs/python/3.9.9/lib/python3.9/site-packages (from Jinja2<4.0.0,>=3.1.2->truss==0.0.28) (2.1.1)\n",
      "Requirement already satisfied: pyparsing>=2.0.2 in /Users/bola/.asdf/installs/python/3.9.9/lib/python3.9/site-packages (from packaging<21.0,>=20.9->truss==0.0.28) (3.0.9)\n",
      "Requirement already satisfied: typer>=0.4.1 in /Users/bola/.asdf/installs/python/3.9.9/lib/python3.9/site-packages (from python-on-whales<0.47.0,>=0.46.0->truss==0.0.28) (0.6.1)\n",
      "Requirement already satisfied: typing-extensions in /Users/bola/.asdf/installs/python/3.9.9/lib/python3.9/site-packages (from python-on-whales<0.47.0,>=0.46.0->truss==0.0.28) (4.2.0)\n",
      "Requirement already satisfied: pydantic in /Users/bola/.asdf/installs/python/3.9.9/lib/python3.9/site-packages (from python-on-whales<0.47.0,>=0.46.0->truss==0.0.28) (1.9.1)\n",
      "Requirement already satisfied: urllib3<1.27,>=1.21.1 in /Users/bola/.asdf/installs/python/3.9.9/lib/python3.9/site-packages (from requests>=2.22->baseten==0.2.0) (1.26.9)\n",
      "Requirement already satisfied: idna<4,>=2.5 in /Users/bola/.asdf/installs/python/3.9.9/lib/python3.9/site-packages (from requests>=2.22->baseten==0.2.0) (3.3)\n",
      "Requirement already satisfied: charset-normalizer~=2.0.0 in /Users/bola/.asdf/installs/python/3.9.9/lib/python3.9/site-packages (from requests>=2.22->baseten==0.2.0) (2.0.12)\n",
      "Requirement already satisfied: certifi>=2017.4.17 in /Users/bola/.asdf/installs/python/3.9.9/lib/python3.9/site-packages (from requests>=2.22->baseten==0.2.0) (2022.6.15)\n"
     ]
    }
   ],
   "source": [
    "!pip install truss==0.0.28 baseten==0.2.0"
   ]
  },
  {
   "cell_type": "code",
   "execution_count": 6,
   "metadata": {},
   "outputs": [
    {
     "name": "stderr",
     "output_type": "stream",
     "text": [
      "\u001b[32mINFO\u001b[0m Serializing \u001b[34ma-team-pipeline\u001b[0m truss.\n",
      "\u001b[32mINFO\u001b[0m Making contact with BaseTen 👋 👽\n",
      "\u001b[32mINFO\u001b[0m 🚀 Uploading model to BaseTen 🚀\n",
      "Upload Progress: 100% |\u001b[34m████████████████████████████████████████████████████████████████████████████████████████████████████\u001b[39m| 6.92k/6.92k\n",
      "\u001b[32mINFO\u001b[0m 🔮 Upload successful!🔮\n",
      "\u001b[32mINFO\u001b[0m eyJtb2RlbF90eXBlIjogIk1vZGVsIiwgIm1vZGVsX2ZyYW1ld29yayI6ICJza2xlYXJuIiwgIm1vZGVsX21vZHVsZV9kaXIiOiAibW9kZWwiLCAibW9kZWxfY2xhc3NfZmlsZW5hbWUiOiAibW9kZWwucHkiLCAibW9kZWxfY2xhc3NfbmFtZSI6ICJNb2RlbCIsICJkYXRhX2RpciI6ICJkYXRhIiwgImlucHV0X3R5cGUiOiAiQW55IiwgIm1vZGVsX21ldGFkYXRhIjogeyJtb2RlbF9iaW5hcnlfZGlyIjogIm1vZGVsIiwgInN1cHBvcnRzX3ByZWRpY3RfcHJvYmEiOiB0cnVlfSwgInJlcXVpcmVtZW50cyI6IFsiam9ibGliPT0xLjEuMCIsICJ0aHJlYWRwb29sY3RsPT0zLjEuMCIsICJzY2lweT09MS44LjEiLCAibnVtcHk9PTEuMjMuMSIsICJzY2lraXQtbGVhcm49PTEuMS4xIiwgImJzb249PTAuNS4xMCJdLCAic3lzdGVtX3BhY2thZ2VzIjogW10sICJlbnZpcm9ubWVudF92YXJpYWJsZXMiOiB7fSwgInJlc291cmNlcyI6IHsiY3B1IjogIjUwMG0iLCAibWVtb3J5IjogIjUxMk1pIiwgInVzZV9ncHUiOiBmYWxzZX0sICJweXRob25fdmVyc2lvbiI6ICJweTM5IiwgIm1vZGVsX25hbWUiOiBudWxsLCAiZXhhbXBsZXNfZmlsZW5hbWUiOiAiZXhhbXBsZXMueWFtbCIsICJzZWNyZXRzIjoge30sICJkZXNjcmlwdGlvbiI6IG51bGx9\n",
      "\u001b[32mINFO\u001b[0m Successfully created version \u001b[34mdq46zkw\u001b[0m for a-team-pipeline.\n",
      "\u001b[32mINFO\u001b[0m \u001b[34m Deploying model version.\n",
      "\u001b[32mINFO\u001b[0m 🏁 The model is being built and deployed right now 🏁\n",
      "\u001b[32mINFO\u001b[0m -----------------------------------------------------------------------\n",
      "\u001b[32mINFO\u001b[0m |  Visit \u001b[34mhttps://app.baseten.co/models/pqvJRql\u001b[0m for deployment status  |\n",
      "\u001b[32mINFO\u001b[0m -----------------------------------------------------------------------\n"
     ]
    }
   ],
   "source": [
    "import truss\n",
    "import baseten\n",
    "# baseten.login('{API-KEY}')\n",
    "handle = truss.from_directory('./pipeline_truss')\n",
    "b10_model = baseten.deploy_truss(handle, model_name=\"a-team-pipeline\")"
   ]
  },
  {
   "cell_type": "code",
   "execution_count": 7,
   "metadata": {},
   "outputs": [],
   "source": [
    "from bson.objectid import ObjectId\n",
    "\n",
    "SID0 = ObjectId(\"abcdef123456abcdef123453\")\n",
    "SID1 = ObjectId(\"abcdef123456abcdef123453\")\n",
    "SID2 = ObjectId(\"abcdef123456abcdef123454\")\n",
    "SID3 = ObjectId(\"abcdef123456abcdef123454\")\n",
    "SID4 = ObjectId(\"abcdef123456abcdef543210\")\n",
    "\n",
    "BUILDER = {\n",
    "    \"feature1\": SID0,\n",
    "    \"feature2\": SID1,\n",
    "    \"feature3\": SID4,\n",
    "    \"feature4\": SID2,\n",
    "    \"feature5\": SID1,\n",
    "}\n",
    "\n",
    "ROLE = {\n",
    "    \"feature1\": SID0,\n",
    "    \"feature2\": SID1,\n",
    "    \"feature3\": SID1,\n",
    "    \"feature4\": SID3,\n",
    "    \"feature5\": SID4,\n",
    "}\n"
   ]
  },
  {
   "cell_type": "code",
   "execution_count": 14,
   "metadata": {},
   "outputs": [
    {
     "ename": "ApiError",
     "evalue": "Error calling predict.\n<Server response: b'{\"error\": \"Failed to invoke model version dq46zkw. \\\\nTraceback (most recent call last):\\\\n  File \\\\\"/app/model_wrapper.py\\\\\", line 50, in predict\\\\n    return self._model.predict(request)\\\\n  File \\\\\"/app/model/model.py\\\\\", line 64, in predict\\\\n    result = self._model.predict(inputs)\\\\n  File \\\\\"/usr/local/lib/python3.9/site-packages/sklearn/pipeline.py\\\\\", line 458, in predict\\\\n    return self.steps[-1][1].predict(Xt, **predict_params)\\\\n  File \\\\\"/usr/local/lib/python3.9/site-packages/sklearn/linear_model/_base.py\\\\\", line 447, in predict\\\\n    scores = self.decision_function(X)\\\\n  File \\\\\"/usr/local/lib/python3.9/site-packages/sklearn/linear_model/_base.py\\\\\", line 429, in decision_function\\\\n    X = self._validate_data(X, accept_sparse=\\\\\"csr\\\\\", reset=False)\\\\n  File \\\\\"/usr/local/lib/python3.9/site-packages/sklearn/base.py\\\\\", line 577, in _validate_data\\\\n    X = check_array(X, input_name=\\\\\"X\\\\\", **check_params)\\\\n  File \\\\\"/usr/local/lib/python3.9/site-packages/sklearn/utils/validation.py\\\\\", line 879, in check_array\\\\n    raise ValueError(\\\\nValueError: Expected 2D array, got 1D array instead:\\\\narray=[].\\\\nReshape your data either using array.reshape(-1, 1) if your data has a single feature or array.reshape(1, -1) if it contains a single sample.\\\\n\"}'>",
     "output_type": "error",
     "traceback": [
      "\u001b[0;31m---------------------------------------------------------------------------\u001b[0m",
      "\u001b[0;31mHTTPError\u001b[0m                                 Traceback (most recent call last)",
      "File \u001b[0;32m~/.asdf/installs/python/3.9.9/lib/python3.9/site-packages/baseten/common/core.py:72\u001b[0m, in \u001b[0;36mraises_api_error.<locals>.wrapper\u001b[0;34m(*args, **kwargs)\u001b[0m\n\u001b[1;32m     71\u001b[0m \u001b[39mtry\u001b[39;00m:\n\u001b[0;32m---> 72\u001b[0m     \u001b[39mreturn\u001b[39;00m func(\u001b[39m*\u001b[39;49margs, \u001b[39m*\u001b[39;49m\u001b[39m*\u001b[39;49mkwargs)\n\u001b[1;32m     73\u001b[0m \u001b[39mexcept\u001b[39;00m RequestException \u001b[39mas\u001b[39;00m err:\n",
      "File \u001b[0;32m~/.asdf/installs/python/3.9.9/lib/python3.9/site-packages/baseten/baseten_deployed_model.py:103\u001b[0m, in \u001b[0;36mBasetenDeployedModel.predict\u001b[0;34m(self, inputs, metadata)\u001b[0m\n\u001b[1;32m    102\u001b[0m \u001b[39mif\u001b[39;00m \u001b[39mself\u001b[39m\u001b[39m.\u001b[39m_model_version_id:\n\u001b[0;32m--> 103\u001b[0m     \u001b[39mreturn\u001b[39;00m api\u001b[39m.\u001b[39;49mpredict_for_model_version(\u001b[39mself\u001b[39;49m\u001b[39m.\u001b[39;49m_model_version_id, inputs_list, metadata)\n\u001b[1;32m    104\u001b[0m \u001b[39mreturn\u001b[39;00m api\u001b[39m.\u001b[39mpredict_for_model(\u001b[39mself\u001b[39m\u001b[39m.\u001b[39m_model_id, inputs_list, metadata)\n",
      "File \u001b[0;32m~/.asdf/installs/python/3.9.9/lib/python3.9/site-packages/baseten/common/api.py:30\u001b[0m, in \u001b[0;36mwith_api_key.<locals>.wrapper\u001b[0;34m(*args, **kwargs)\u001b[0m\n\u001b[1;32m     29\u001b[0m     \u001b[39mraise\u001b[39;00m AuthorizationError(\u001b[39m'\u001b[39m\u001b[39mYou must first run the `baseten login` cli command.\u001b[39m\u001b[39m'\u001b[39m)\n\u001b[0;32m---> 30\u001b[0m result \u001b[39m=\u001b[39m func(api_key, \u001b[39m*\u001b[39;49margs, \u001b[39m*\u001b[39;49m\u001b[39m*\u001b[39;49mkwargs)\n\u001b[1;32m     31\u001b[0m \u001b[39mreturn\u001b[39;00m result\n",
      "File \u001b[0;32m~/.asdf/installs/python/3.9.9/lib/python3.9/site-packages/baseten/common/api.py:599\u001b[0m, in \u001b[0;36mpredict_for_model_version\u001b[0;34m(api_key, model_version_id, inputs, metadata)\u001b[0m\n\u001b[1;32m    598\u001b[0m predict_url \u001b[39m=\u001b[39m \u001b[39mf\u001b[39m\u001b[39m'\u001b[39m\u001b[39m{\u001b[39;00msettings\u001b[39m.\u001b[39mAPI_URL_BASE\u001b[39m}\u001b[39;00m\u001b[39m/model_versions/\u001b[39m\u001b[39m{\u001b[39;00mmodel_version_id\u001b[39m}\u001b[39;00m\u001b[39m/predict\u001b[39m\u001b[39m'\u001b[39m\n\u001b[0;32m--> 599\u001b[0m \u001b[39mreturn\u001b[39;00m _predict(api_key, predict_url, inputs, metadata)\n",
      "File \u001b[0;32m~/.asdf/installs/python/3.9.9/lib/python3.9/site-packages/baseten/common/api.py:681\u001b[0m, in \u001b[0;36m_predict\u001b[0;34m(api_key, predict_url, inputs, metadata)\u001b[0m\n\u001b[1;32m    680\u001b[0m \u001b[39mdef\u001b[39;00m \u001b[39m_predict\u001b[39m(api_key, predict_url: \u001b[39mstr\u001b[39m, inputs: \u001b[39mlist\u001b[39m, metadata: List[Dict] \u001b[39m=\u001b[39m \u001b[39mNone\u001b[39;00m) \u001b[39m-\u001b[39m\u001b[39m>\u001b[39m List[List]:\n\u001b[0;32m--> 681\u001b[0m     resp \u001b[39m=\u001b[39m _post_rest_query(api_key, predict_url, {\u001b[39m'\u001b[39;49m\u001b[39minputs\u001b[39;49m\u001b[39m'\u001b[39;49m: inputs, \u001b[39m'\u001b[39;49m\u001b[39mmetadata\u001b[39;49m\u001b[39m'\u001b[39;49m: metadata})\n\u001b[1;32m    682\u001b[0m     resp_json \u001b[39m=\u001b[39m json\u001b[39m.\u001b[39mloads(resp\u001b[39m.\u001b[39mcontent)\n",
      "File \u001b[0;32m~/.asdf/installs/python/3.9.9/lib/python3.9/site-packages/baseten/common/api.py:704\u001b[0m, in \u001b[0;36m_post_rest_query\u001b[0;34m(api_key, url, post_body_dict)\u001b[0m\n\u001b[1;32m    703\u001b[0m resp \u001b[39m=\u001b[39m requests\u001b[39m.\u001b[39mpost(url, json\u001b[39m=\u001b[39mpost_body_dict, headers\u001b[39m=\u001b[39m_headers(api_key))\n\u001b[0;32m--> 704\u001b[0m resp\u001b[39m.\u001b[39;49mraise_for_status()\n\u001b[1;32m    705\u001b[0m \u001b[39mreturn\u001b[39;00m resp\n",
      "File \u001b[0;32m~/.asdf/installs/python/3.9.9/lib/python3.9/site-packages/requests/models.py:1022\u001b[0m, in \u001b[0;36mResponse.raise_for_status\u001b[0;34m(self)\u001b[0m\n\u001b[1;32m   1021\u001b[0m \u001b[39mif\u001b[39;00m http_error_msg:\n\u001b[0;32m-> 1022\u001b[0m     \u001b[39mraise\u001b[39;00m HTTPError(http_error_msg, response\u001b[39m=\u001b[39m\u001b[39mself\u001b[39m)\n",
      "\u001b[0;31mHTTPError\u001b[0m: 400 Client Error: Bad Request for url: https://app.baseten.co/model_versions/dq46zkw/predict",
      "\nThe above exception was the direct cause of the following exception:\n",
      "\u001b[0;31mApiError\u001b[0m                                  Traceback (most recent call last)",
      "\u001b[1;32m/Users/bola/repos/a.team/baseten-demo/baseten-usage.ipynb Cell 7\u001b[0m in \u001b[0;36m<cell line: 13>\u001b[0;34m()\u001b[0m\n\u001b[1;32m     <a href='vscode-notebook-cell:/Users/bola/repos/a.team/baseten-demo/baseten-usage.ipynb#ch0000004?line=9'>10</a>\u001b[0m request \u001b[39m=\u001b[39m [{\u001b[39m'\u001b[39m\u001b[39mrole\u001b[39m\u001b[39m'\u001b[39m: x, \u001b[39m'\u001b[39m\u001b[39mbuilder\u001b[39m\u001b[39m'\u001b[39m: ROLE} \u001b[39mfor\u001b[39;00m x \u001b[39min\u001b[39;00m [BUILDER]]\n\u001b[1;32m     <a href='vscode-notebook-cell:/Users/bola/repos/a.team/baseten-demo/baseten-usage.ipynb#ch0000004?line=10'>11</a>\u001b[0m serial_req \u001b[39m=\u001b[39m JSONEncoder()\u001b[39m.\u001b[39mencode(request)\n\u001b[0;32m---> <a href='vscode-notebook-cell:/Users/bola/repos/a.team/baseten-demo/baseten-usage.ipynb#ch0000004?line=12'>13</a>\u001b[0m b10_model\u001b[39m.\u001b[39;49mpredict([])\n",
      "File \u001b[0;32m~/.asdf/installs/python/3.9.9/lib/python3.9/site-packages/baseten/common/core.py:74\u001b[0m, in \u001b[0;36mraises_api_error.<locals>.wrapper\u001b[0;34m(*args, **kwargs)\u001b[0m\n\u001b[1;32m     72\u001b[0m     \u001b[39mreturn\u001b[39;00m func(\u001b[39m*\u001b[39margs, \u001b[39m*\u001b[39m\u001b[39m*\u001b[39mkwargs)\n\u001b[1;32m     73\u001b[0m \u001b[39mexcept\u001b[39;00m RequestException \u001b[39mas\u001b[39;00m err:\n\u001b[0;32m---> 74\u001b[0m     \u001b[39mraise\u001b[39;00m ApiError(\u001b[39mf\u001b[39m\u001b[39m'\u001b[39m\u001b[39mError calling \u001b[39m\u001b[39m{\u001b[39;00mfunc\u001b[39m.\u001b[39m\u001b[39m__name__\u001b[39m\u001b[39m}\u001b[39;00m\u001b[39m.\u001b[39m\u001b[39m'\u001b[39m, response\u001b[39m=\u001b[39merr\u001b[39m.\u001b[39mresponse) \u001b[39mfrom\u001b[39;00m \u001b[39merr\u001b[39;00m\n",
      "\u001b[0;31mApiError\u001b[0m: Error calling predict.\n<Server response: b'{\"error\": \"Failed to invoke model version dq46zkw. \\\\nTraceback (most recent call last):\\\\n  File \\\\\"/app/model_wrapper.py\\\\\", line 50, in predict\\\\n    return self._model.predict(request)\\\\n  File \\\\\"/app/model/model.py\\\\\", line 64, in predict\\\\n    result = self._model.predict(inputs)\\\\n  File \\\\\"/usr/local/lib/python3.9/site-packages/sklearn/pipeline.py\\\\\", line 458, in predict\\\\n    return self.steps[-1][1].predict(Xt, **predict_params)\\\\n  File \\\\\"/usr/local/lib/python3.9/site-packages/sklearn/linear_model/_base.py\\\\\", line 447, in predict\\\\n    scores = self.decision_function(X)\\\\n  File \\\\\"/usr/local/lib/python3.9/site-packages/sklearn/linear_model/_base.py\\\\\", line 429, in decision_function\\\\n    X = self._validate_data(X, accept_sparse=\\\\\"csr\\\\\", reset=False)\\\\n  File \\\\\"/usr/local/lib/python3.9/site-packages/sklearn/base.py\\\\\", line 577, in _validate_data\\\\n    X = check_array(X, input_name=\\\\\"X\\\\\", **check_params)\\\\n  File \\\\\"/usr/local/lib/python3.9/site-packages/sklearn/utils/validation.py\\\\\", line 879, in check_array\\\\n    raise ValueError(\\\\nValueError: Expected 2D array, got 1D array instead:\\\\narray=[].\\\\nReshape your data either using array.reshape(-1, 1) if your data has a single feature or array.reshape(1, -1) if it contains a single sample.\\\\n\"}'>"
     ]
    }
   ],
   "source": [
    "import json\n",
    "from bson import ObjectId\n",
    "\n",
    "class JSONEncoder(json.JSONEncoder):\n",
    "    def default(self, o):\n",
    "        if isinstance(o, ObjectId):\n",
    "            return str(o)\n",
    "        return json.JSONEncoder.default(self, o)\n",
    "\n",
    "request = [{'role': x, 'builder': ROLE} for x in [BUILDER]]\n",
    "serial_req = JSONEncoder().encode(request)\n",
    "\n",
    "b10_model.predict([])"
   ]
  },
  {
   "cell_type": "code",
   "execution_count": null,
   "metadata": {},
   "outputs": [],
   "source": []
  }
 ],
 "metadata": {
  "kernelspec": {
   "display_name": "Python 3.9.9 64-bit",
   "language": "python",
   "name": "python3"
  },
  "language_info": {
   "codemirror_mode": {
    "name": "ipython",
    "version": 3
   },
   "file_extension": ".py",
   "mimetype": "text/x-python",
   "name": "python",
   "nbconvert_exporter": "python",
   "pygments_lexer": "ipython3",
   "version": "3.9.9"
  },
  "orig_nbformat": 4,
  "vscode": {
   "interpreter": {
    "hash": "beac00b5d9d6d68e77c88b36e305f7b0c2d91669dda6c9eaeef0bd7a0175bfa1"
   }
  }
 },
 "nbformat": 4,
 "nbformat_minor": 2
}
